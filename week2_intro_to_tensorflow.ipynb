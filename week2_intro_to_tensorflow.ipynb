{
  "nbformat": 4,
  "nbformat_minor": 0,
  "metadata": {
    "kernelspec": {
      "name": "python3",
      "display_name": "Python 3"
    },
    "language_info": {
      "codemirror_mode": {
        "name": "ipython",
        "version": 3
      },
      "file_extension": ".py",
      "mimetype": "text/x-python",
      "name": "python",
      "nbconvert_exporter": "python",
      "pygments_lexer": "ipython3",
      "version": "3.6.5"
    },
    "colab": {
      "name": "Copy of intro_to_tensorflow.ipynb",
      "provenance": [],
      "collapsed_sections": []
    },
    "accelerator": "GPU"
  },
  "cells": [
    {
      "cell_type": "code",
      "metadata": {
        "id": "44XnBs-DNmyK",
        "colab_type": "code",
        "outputId": "602b2320-dfad-4404-c9e5-a074ed2b45ea",
        "colab": {
          "base_uri": "https://localhost:8080/",
          "height": 35
        }
      },
      "source": [
        "# set tf 1.x for colab\n",
        "%tensorflow_version 1.x"
      ],
      "execution_count": 0,
      "outputs": [
        {
          "output_type": "stream",
          "text": [
            "TensorFlow 1.x selected.\n"
          ],
          "name": "stdout"
        }
      ]
    },
    {
      "cell_type": "markdown",
      "metadata": {
        "id": "oGpQH5P0Nmyb",
        "colab_type": "text"
      },
      "source": [
        "# Intro to TensorFlow\n",
        "\n",
        "This notebook covers the basics of TF and shows you an animation with gradient descent trajectory.\n",
        "<img src=\"https://github.com/hse-aml/intro-to-dl/blob/master/week2/v2/images/gradient_descent.png?raw=1\" style=\"width:50%\">"
      ]
    },
    {
      "cell_type": "code",
      "metadata": {
        "id": "nDC7KilTO39T",
        "colab_type": "code",
        "outputId": "a045e03d-5c5f-44a6-f8ff-790ec3761261",
        "colab": {
          "base_uri": "https://localhost:8080/",
          "height": 326
        }
      },
      "source": [
        "! shred -u setup_google_colab.py\n",
        "! wget https://raw.githubusercontent.com/hse-aml/intro-to-dl/master/setup_google_colab.py -O setup_google_colab.py\n",
        "import setup_google_colab\n",
        "setup_google_colab.setup_week2()"
      ],
      "execution_count": 0,
      "outputs": [
        {
          "output_type": "stream",
          "text": [
            "--2020-04-01 10:01:31--  https://raw.githubusercontent.com/hse-aml/intro-to-dl/master/setup_google_colab.py\n",
            "Resolving raw.githubusercontent.com (raw.githubusercontent.com)... 151.101.0.133, 151.101.64.133, 151.101.128.133, ...\n",
            "Connecting to raw.githubusercontent.com (raw.githubusercontent.com)|151.101.0.133|:443... connected.\n",
            "HTTP request sent, awaiting response... 200 OK\n",
            "Length: 3636 (3.6K) [text/plain]\n",
            "Saving to: ‘setup_google_colab.py’\n",
            "\n",
            "\rsetup_google_colab.   0%[                    ]       0  --.-KB/s               \rsetup_google_colab. 100%[===================>]   3.55K  --.-KB/s    in 0s      \n",
            "\n",
            "2020-04-01 10:01:31 (77.7 MB/s) - ‘setup_google_colab.py’ saved [3636/3636]\n",
            "\n",
            "**************************************************\n",
            "inception_v3_weights_tf_dim_ordering_tf_kernels_notop.h5\n",
            "**************************************************\n",
            "cifar-10-batches-py.tar.gz\n",
            "**************************************************\n",
            "mnist.npz\n"
          ],
          "name": "stdout"
        }
      ]
    },
    {
      "cell_type": "markdown",
      "metadata": {
        "id": "xYXKUMujNmyc",
        "colab_type": "text"
      },
      "source": [
        "# TensorBoard"
      ]
    },
    {
      "cell_type": "markdown",
      "metadata": {
        "id": "bKI39RglNmyj",
        "colab_type": "text"
      },
      "source": [
        "**Plase note that if you are running on the Coursera platform, you won't be able to access the tensorboard instance due to the network setup there.**\n",
        "\n",
        "Run `tensorboard --logdir=./tensorboard_logs --port=7007` in bash.\n",
        "\n",
        "If you run the notebook locally, you should be able to access TensorBoard on http://127.0.0.1:7007/"
      ]
    },
    {
      "cell_type": "code",
      "metadata": {
        "id": "nIqoV5VSNmym",
        "colab_type": "code",
        "outputId": "72f9b74d-6e15-4e8f-bfbf-0c7ddfcd7d37",
        "colab": {
          "base_uri": "https://localhost:8080/",
          "height": 291
        }
      },
      "source": [
        "import tensorflow.compat.v1 as tf\n",
        "import sys\n",
        "sys.path.append(\"../..\")\n",
        "from keras_utils import reset_tf_session\n",
        "s = reset_tf_session()\n",
        "print(\"We're using TF\", tf.__version__)"
      ],
      "execution_count": 0,
      "outputs": [
        {
          "output_type": "stream",
          "text": [
            "Using TensorFlow backend.\n"
          ],
          "name": "stderr"
        },
        {
          "output_type": "stream",
          "text": [
            "WARNING:tensorflow:From /content/keras_utils.py:68: The name tf.get_default_session is deprecated. Please use tf.compat.v1.get_default_session instead.\n",
            "\n",
            "WARNING:tensorflow:From /usr/local/lib/python3.6/dist-packages/keras/backend/tensorflow_backend.py:79: The name tf.reset_default_graph is deprecated. Please use tf.compat.v1.reset_default_graph instead.\n",
            "\n",
            "WARNING:tensorflow:From /usr/local/lib/python3.6/dist-packages/keras/backend/tensorflow_backend.py:82: The name tf.placeholder is deprecated. Please use tf.compat.v1.placeholder instead.\n",
            "\n",
            "WARNING:tensorflow:From /usr/local/lib/python3.6/dist-packages/keras/backend/tensorflow_backend.py:84: The name tf.get_default_graph is deprecated. Please use tf.compat.v1.get_default_graph instead.\n",
            "\n",
            "WARNING:tensorflow:From /content/keras_utils.py:75: The name tf.ConfigProto is deprecated. Please use tf.compat.v1.ConfigProto instead.\n",
            "\n",
            "WARNING:tensorflow:From /content/keras_utils.py:77: The name tf.InteractiveSession is deprecated. Please use tf.compat.v1.InteractiveSession instead.\n",
            "\n",
            "We're using TF 1.15.2\n"
          ],
          "name": "stdout"
        }
      ]
    },
    {
      "cell_type": "markdown",
      "metadata": {
        "id": "dae1Rac9Nmyx",
        "colab_type": "text"
      },
      "source": [
        "# Warming up\n",
        "For starters, let's implement a python function that computes the sum of squares of numbers from 0 to N-1."
      ]
    },
    {
      "cell_type": "code",
      "metadata": {
        "id": "ixZ3WcMONmy0",
        "colab_type": "code",
        "colab": {}
      },
      "source": [
        "import numpy as np\n",
        "\n",
        "def sum_python(N):\n",
        "    return np.sum(np.arange(N)**2)"
      ],
      "execution_count": 0,
      "outputs": []
    },
    {
      "cell_type": "code",
      "metadata": {
        "id": "xrFumbifNmy-",
        "colab_type": "code",
        "colab": {}
      },
      "source": [
        "%%time\n",
        "sum_python(10**5)"
      ],
      "execution_count": 0,
      "outputs": []
    },
    {
      "cell_type": "code",
      "metadata": {
        "id": "lc56AKx3P3PR",
        "colab_type": "code",
        "outputId": "10eb2cdd-18c1-40c6-ae8b-aeae4b9f2e5c",
        "colab": {
          "base_uri": "https://localhost:8080/",
          "height": 35
        }
      },
      "source": [
        "tf.print(tf.range(5)**2)"
      ],
      "execution_count": 0,
      "outputs": [
        {
          "output_type": "execute_result",
          "data": {
            "text/plain": [
              "<tf.Operation 'PrintV2' type=PrintV2>"
            ]
          },
          "metadata": {
            "tags": []
          },
          "execution_count": 8
        }
      ]
    },
    {
      "cell_type": "markdown",
      "metadata": {
        "id": "v1q3vw8wNmzM",
        "colab_type": "text"
      },
      "source": [
        "# Tensoflow teaser\n",
        "\n",
        "Doing the very same thing"
      ]
    },
    {
      "cell_type": "code",
      "metadata": {
        "id": "9uAnvmVSNmzP",
        "colab_type": "code",
        "colab": {}
      },
      "source": [
        "# An integer parameter\n",
        "N = tf.placeholder('int64', name=\"input_to_your_function\")\n",
        "\n",
        "# A recipe on how to produce the same result\n",
        "result = tf.reduce_sum(tf.range(N)**2)"
      ],
      "execution_count": 0,
      "outputs": []
    },
    {
      "cell_type": "code",
      "metadata": {
        "id": "PmJZmwaFNmze",
        "colab_type": "code",
        "outputId": "8e545f80-1b9f-4c76-99db-533bf7024ddb",
        "colab": {
          "base_uri": "https://localhost:8080/",
          "height": 35
        }
      },
      "source": [
        "# just a graph definition\n",
        "result"
      ],
      "execution_count": 0,
      "outputs": [
        {
          "output_type": "execute_result",
          "data": {
            "text/plain": [
              "<tf.Tensor 'Sum_1:0' shape=() dtype=int64>"
            ]
          },
          "metadata": {
            "tags": []
          },
          "execution_count": 11
        }
      ]
    },
    {
      "cell_type": "code",
      "metadata": {
        "id": "4aEpyiqdNmzq",
        "colab_type": "code",
        "outputId": "2620bd08-0e8f-4f96-e21c-7fc49bcd0740",
        "colab": {
          "base_uri": "https://localhost:8080/",
          "height": 72
        }
      },
      "source": [
        "%%time\n",
        "# actually executing\n",
        "result.eval({N: 10**5})"
      ],
      "execution_count": 0,
      "outputs": [
        {
          "output_type": "stream",
          "text": [
            "CPU times: user 409 ms, sys: 203 ms, total: 612 ms\n",
            "Wall time: 6.17 s\n"
          ],
          "name": "stdout"
        },
        {
          "output_type": "execute_result",
          "data": {
            "text/plain": [
              "333328333350000"
            ]
          },
          "metadata": {
            "tags": []
          },
          "execution_count": 12
        }
      ]
    },
    {
      "cell_type": "code",
      "metadata": {
        "id": "pM4e7kZJNmz2",
        "colab_type": "code",
        "colab": {}
      },
      "source": [
        "# logger for tensorboard\n",
        "writer = tf.summary.FileWriter(\"tensorboard_logs\", graph=s.graph)"
      ],
      "execution_count": 0,
      "outputs": []
    },
    {
      "cell_type": "markdown",
      "metadata": {
        "id": "Z8erTFBuNm0N",
        "colab_type": "text"
      },
      "source": [
        "# How does it work?\n",
        "1. Define placeholders where you'll send inputs\n",
        "2. Make a symbolic graph: a recipe for mathematical transformation of those placeholders\n",
        "3. Compute outputs of your graph with particular values for each placeholder\n",
        "  * `output.eval({placeholder: value})`\n",
        "  * `s.run(output, {placeholder: value})`\n",
        "\n",
        "So far there are two main entities: \"placeholder\" and \"transformation\" (operation output)\n",
        "* Both can be numbers, vectors, matrices, tensors, etc.\n",
        "* Both can be int32/64, floats, booleans (uint8) of various size.\n",
        "\n",
        "* You can define new transformations as an arbitrary operation on placeholders and other transformations\n",
        " * `tf.reduce_sum(tf.arange(N)**2)` are 3 sequential transformations of placeholder `N`\n",
        " * There's a tensorflow symbolic version for every numpy function\n",
        "   * `a+b, a/b, a**b, ...` behave just like in numpy\n",
        "   * `np.mean` -> `tf.reduce_mean`\n",
        "   * `np.arange` -> `tf.range`\n",
        "   * `np.cumsum` -> `tf.cumsum`\n",
        "   * If you can't find the operation you need, see the [docs](https://www.tensorflow.org/versions/r1.3/api_docs/python).\n",
        "   \n",
        "`tf.contrib` has many high-level features, may be worth a look."
      ]
    },
    {
      "cell_type": "code",
      "metadata": {
        "id": "qxHGBe6KNm0Q",
        "colab_type": "code",
        "colab": {}
      },
      "source": [
        "with tf.name_scope(\"Placeholders_examples\"):\n",
        "    # Default placeholder that can be arbitrary float32\n",
        "    # scalar, vertor, matrix, etc.\n",
        "    arbitrary_input = tf.placeholder('float32')\n",
        "\n",
        "    # Input vector of arbitrary length\n",
        "    input_vector = tf.placeholder('float32', shape=(None,))\n",
        "\n",
        "    # Input vector that _must_ have 10 elements and integer type\n",
        "    fixed_vector = tf.placeholder('int32', shape=(10,))\n",
        "\n",
        "    # Matrix of arbitrary n_rows and 15 columns\n",
        "    # (e.g. a minibatch of your data table)\n",
        "    input_matrix = tf.placeholder('float32', shape=(None, 15))\n",
        "    \n",
        "    # You can generally use None whenever you don't need a specific shape\n",
        "    input1 = tf.placeholder('float64', shape=(None, 100, None))\n",
        "    input2 = tf.placeholder('int32', shape=(None, None, 3, 224, 224))\n",
        "\n",
        "    # elementwise multiplication\n",
        "    double_the_vector = input_vector*2\n",
        "\n",
        "    # elementwise cosine\n",
        "    elementwise_cosine = tf.cos(input_vector)\n",
        "\n",
        "    # difference between squared vector and vector itself plus one\n",
        "    vector_squares = input_vector**2 - input_vector + 1"
      ],
      "execution_count": 0,
      "outputs": []
    },
    {
      "cell_type": "code",
      "metadata": {
        "id": "157IUWQYNm0a",
        "colab_type": "code",
        "colab": {}
      },
      "source": [
        "my_vector =  tf.placeholder('float32', shape=(None,), name=\"VECTOR_1\")\n",
        "my_vector2 = tf.placeholder('float32', shape=(None,))\n",
        "my_transformation = my_vector * my_vector2 / (tf.sin(my_vector) + 1)"
      ],
      "execution_count": 0,
      "outputs": []
    },
    {
      "cell_type": "code",
      "metadata": {
        "id": "eisrKeB_Nm0h",
        "colab_type": "code",
        "outputId": "bcd4be1f-2e5f-4c93-f8a8-f1a55fae2b88",
        "colab": {
          "base_uri": "https://localhost:8080/",
          "height": 35
        }
      },
      "source": [
        "print(my_transformation)"
      ],
      "execution_count": 0,
      "outputs": [
        {
          "output_type": "stream",
          "text": [
            "Tensor(\"truediv:0\", shape=(?,), dtype=float32)\n"
          ],
          "name": "stdout"
        }
      ]
    },
    {
      "cell_type": "code",
      "metadata": {
        "id": "g9W0wiKuNm0t",
        "colab_type": "code",
        "outputId": "9db4a3e8-64bd-4fae-e445-6fb66c8d0b51",
        "colab": {
          "base_uri": "https://localhost:8080/",
          "height": 72
        }
      },
      "source": [
        "dummy = np.arange(5).astype('float32')\n",
        "print(dummy)\n",
        "my_transformation.eval({my_vector: dummy, my_vector2: dummy[::-1]})"
      ],
      "execution_count": 0,
      "outputs": [
        {
          "output_type": "stream",
          "text": [
            "[0. 1. 2. 3. 4.]\n"
          ],
          "name": "stdout"
        },
        {
          "output_type": "execute_result",
          "data": {
            "text/plain": [
              "array([0.       , 1.6291324, 2.0950115, 2.6289961, 0.       ],\n",
              "      dtype=float32)"
            ]
          },
          "metadata": {
            "tags": []
          },
          "execution_count": 9
        }
      ]
    },
    {
      "cell_type": "code",
      "metadata": {
        "id": "Rp3HvkfpNm03",
        "colab_type": "code",
        "colab": {}
      },
      "source": [
        "writer.add_graph(my_transformation.graph)\n",
        "writer.flush()"
      ],
      "execution_count": 0,
      "outputs": []
    },
    {
      "cell_type": "markdown",
      "metadata": {
        "id": "4iNd_anANm09",
        "colab_type": "text"
      },
      "source": [
        "TensorBoard allows writing scalars, images, audio, histogram. You can read more on tensorboard usage [here](https://www.tensorflow.org/get_started/graph_viz)."
      ]
    },
    {
      "cell_type": "markdown",
      "metadata": {
        "id": "_qsXjYSTNm0-",
        "colab_type": "text"
      },
      "source": [
        "# Summary\n",
        "* Tensorflow is based on computation graphs\n",
        "* A graph consists of placeholders and transformations"
      ]
    },
    {
      "cell_type": "markdown",
      "metadata": {
        "id": "N6g00Q3LNm1A",
        "colab_type": "text"
      },
      "source": [
        "# Loss function: Mean Squared Error\n",
        "\n",
        "Loss function must be a part of the graph as well, so that we can do backpropagation."
      ]
    },
    {
      "cell_type": "code",
      "metadata": {
        "id": "edpB5xWXNm1D",
        "colab_type": "code",
        "colab": {}
      },
      "source": [
        "with tf.name_scope(\"MSE\"):\n",
        "    y_true = tf.placeholder(\"float32\", shape=(None,), name=\"y_true\")\n",
        "    y_predicted = tf.placeholder(\"float32\", shape=(None,), name=\"y_predicted\")\n",
        "    # Implement MSE(y_true, y_predicted), use tf.reduce_mean(...)\n",
        "    mse = tf.reduce_mean((y_true-y_predicted)**2)\n",
        "\n",
        "def compute_mse(vector1, vector2):\n",
        "    return mse.eval({y_true: vector1, y_predicted: vector2})"
      ],
      "execution_count": 0,
      "outputs": []
    },
    {
      "cell_type": "code",
      "metadata": {
        "id": "FTLqXKtKNm1N",
        "colab_type": "code",
        "colab": {}
      },
      "source": [
        "writer.add_graph(mse.graph)\n",
        "writer.flush()"
      ],
      "execution_count": 0,
      "outputs": []
    },
    {
      "cell_type": "code",
      "metadata": {
        "id": "kTr-s6xrNm1U",
        "colab_type": "code",
        "colab": {}
      },
      "source": [
        "# Rigorous local testing of MSE implementation\n",
        "import sklearn.metrics\n",
        "for n in [1, 5, 10, 10**3]:\n",
        "    elems = [np.arange(n), np.arange(n, 0, -1), np.zeros(n),\n",
        "             np.ones(n), np.random.random(n), np.random.randint(100, size=n)]\n",
        "    for el in elems:\n",
        "        for el_2 in elems:\n",
        "            true_mse = np.array(sklearn.metrics.mean_squared_error(el, el_2))\n",
        "            my_mse = compute_mse(el, el_2)\n",
        "            if not np.allclose(true_mse, my_mse):\n",
        "                print('mse(%s,%s)' % (el, el_2))\n",
        "                print(\"should be: %f, but your function returned %f\" % (true_mse, my_mse))\n",
        "                raise ValueError('Wrong result')"
      ],
      "execution_count": 0,
      "outputs": []
    },
    {
      "cell_type": "markdown",
      "metadata": {
        "id": "qWS6ic87Nm1c",
        "colab_type": "text"
      },
      "source": [
        "# Variables\n",
        "\n",
        "Placeholder and transformation values are not stored in the graph once the execution is finished. This isn't too comfortable if you want your model to have parameters (e.g. network weights) that are always present, but can change their value over time.\n",
        "\n",
        "Tensorflow solves this with `tf.Variable` objects.\n",
        "* You can assign variable a value at any time in your graph\n",
        "* Unlike placeholders, there's no need to explicitly pass values to variables when `s.run(...)`-ing\n",
        "* You can use variables the same way you use transformations \n",
        " "
      ]
    },
    {
      "cell_type": "code",
      "metadata": {
        "id": "0Zo6-CwPNm1d",
        "colab_type": "code",
        "colab": {}
      },
      "source": [
        "# Creating a shared variable\n",
        "shared_vector_1 = tf.Variable(initial_value=np.ones(5),\n",
        "                              name=\"example_variable\")"
      ],
      "execution_count": 0,
      "outputs": []
    },
    {
      "cell_type": "code",
      "metadata": {
        "id": "u1wltnfrNm1n",
        "colab_type": "code",
        "outputId": "ac7f204c-469f-435a-8ba8-26b354cf4808",
        "colab": {
          "base_uri": "https://localhost:8080/",
          "height": 35
        }
      },
      "source": [
        "# Initialize variable(s) with initial values\n",
        "s.run(tf.global_variables_initializer())\n",
        "\n",
        "# Evaluating the shared variable\n",
        "print(\"Initial value\", s.run(shared_vector_1))"
      ],
      "execution_count": 0,
      "outputs": [
        {
          "output_type": "stream",
          "text": [
            "Initial value [1. 1. 1. 1. 1.]\n"
          ],
          "name": "stdout"
        }
      ]
    },
    {
      "cell_type": "code",
      "metadata": {
        "id": "LlNrr7KwNm1u",
        "colab_type": "code",
        "outputId": "7cfba92d-8b48-4aa1-efd3-366b10db4af1",
        "colab": {
          "base_uri": "https://localhost:8080/",
          "height": 35
        }
      },
      "source": [
        "# Setting a new value\n",
        "s.run(shared_vector_1.assign(np.arange(5)))\n",
        "\n",
        "# Getting that new value\n",
        "print(\"New value\", s.run(shared_vector_1))"
      ],
      "execution_count": 0,
      "outputs": [
        {
          "output_type": "stream",
          "text": [
            "New value [0. 1. 2. 3. 4.]\n"
          ],
          "name": "stdout"
        }
      ]
    },
    {
      "cell_type": "markdown",
      "metadata": {
        "id": "aVe9YI7mNm12",
        "colab_type": "text"
      },
      "source": [
        "# tf.gradients - why graphs matter\n",
        "* Tensorflow can compute derivatives and gradients automatically using the computation graph\n",
        "* True to its name it can manage matrix derivatives\n",
        "* Gradients are computed as a product of elementary derivatives via the chain rule:\n",
        "\n",
        "$$ {\\partial f(g(x)) \\over \\partial x} = {\\partial f(g(x)) \\over \\partial g(x)}\\cdot {\\partial g(x) \\over \\partial x} $$\n",
        "\n",
        "It can get you the derivative of any graph as long as it knows how to differentiate elementary operations"
      ]
    },
    {
      "cell_type": "code",
      "metadata": {
        "id": "bv7tYBPoNm13",
        "colab_type": "code",
        "outputId": "c24cfe60-ab9a-40fa-8ed2-e506d25d556d",
        "colab": {
          "base_uri": "https://localhost:8080/",
          "height": 92
        }
      },
      "source": [
        "my_scalar = tf.placeholder('float32')\n",
        "\n",
        "scalar_squared = my_scalar**2\n",
        "\n",
        "# A derivative of scalar_squared by my_scalar\n",
        "derivative = tf.gradients(scalar_squared, [my_scalar, ])"
      ],
      "execution_count": 0,
      "outputs": [
        {
          "output_type": "stream",
          "text": [
            "WARNING:tensorflow:From /tensorflow-1.15.2/python3.6/tensorflow_core/python/ops/math_grad.py:1375: where (from tensorflow.python.ops.array_ops) is deprecated and will be removed in a future version.\n",
            "Instructions for updating:\n",
            "Use tf.where in 2.0, which has the same broadcast rule as np.where\n"
          ],
          "name": "stdout"
        }
      ]
    },
    {
      "cell_type": "code",
      "metadata": {
        "id": "zFkHgqBqNm1_",
        "colab_type": "code",
        "outputId": "675f2ce0-977d-4b22-e509-4dd8e49ed560",
        "colab": {
          "base_uri": "https://localhost:8080/",
          "height": 35
        }
      },
      "source": [
        "derivative"
      ],
      "execution_count": 0,
      "outputs": [
        {
          "output_type": "execute_result",
          "data": {
            "text/plain": [
              "[<tf.Tensor 'gradients/pow_grad/Reshape:0' shape=<unknown> dtype=float32>]"
            ]
          },
          "metadata": {
            "tags": []
          },
          "execution_count": 24
        }
      ]
    },
    {
      "cell_type": "code",
      "metadata": {
        "id": "jImc15KTNm2I",
        "colab_type": "code",
        "outputId": "930b6b26-ab0b-4250-aec5-0d3a05cae77c",
        "colab": {
          "base_uri": "https://localhost:8080/",
          "height": 265
        }
      },
      "source": [
        "import matplotlib.pyplot as plt\n",
        "%matplotlib inline\n",
        "\n",
        "x = np.linspace(-3, 3)\n",
        "x_squared, x_squared_der = s.run([scalar_squared, derivative[0]],\n",
        "                                 {my_scalar:x})\n",
        "\n",
        "plt.plot(x, x_squared,label=\"$x^2$\")\n",
        "plt.plot(x, x_squared_der, label=r\"$\\frac{dx^2}{dx}$\")\n",
        "plt.legend();"
      ],
      "execution_count": 0,
      "outputs": [
        {
          "output_type": "display_data",
          "data": {
            "image/png": "[encoded data removed]",
            "text/plain": [
              "<Figure size 432x288 with 1 Axes>"
            ]
          },
          "metadata": {
            "tags": []
          }
        }
      ]
    },
    {
      "cell_type": "markdown",
      "metadata": {
        "id": "zPAohO1rNm2Q",
        "colab_type": "text"
      },
      "source": [
        "# Why that rocks"
      ]
    },
    {
      "cell_type": "code",
      "metadata": {
        "id": "oX76z0QNNm2R",
        "colab_type": "code",
        "colab": {}
      },
      "source": [
        "my_vector = tf.placeholder('float32', [None])\n",
        "# Compute the gradient of the next weird function over my_scalar and my_vector\n",
        "# Warning! Trying to understand the meaning of that function may result in permanent brain damage\n",
        "weird_psychotic_function = tf.reduce_mean(\n",
        "    (my_vector+my_scalar)**(1+tf.nn.moments(my_vector,[0])[1]) + \n",
        "    1./ tf.atan(my_scalar))/(my_scalar**2 + 1) + 0.01*tf.sin(\n",
        "    2*my_scalar**1.5)*(tf.reduce_sum(my_vector)* my_scalar**2\n",
        "                      )*tf.exp((my_scalar-4)**2)/(\n",
        "    1+tf.exp((my_scalar-4)**2))*(1.-(tf.exp(-(my_scalar-4)**2)\n",
        "                                    )/(1+tf.exp(-(my_scalar-4)**2)))**2\n",
        "\n",
        "der_by_scalar = tf.gradients(weird_psychotic_function, my_scalar)\n",
        "der_by_vector = tf.gradients(weird_psychotic_function, my_vector)"
      ],
      "execution_count": 0,
      "outputs": []
    },
    {
      "cell_type": "code",
      "metadata": {
        "id": "fj-MclIHNm2X",
        "colab_type": "code",
        "outputId": "a50ec2cf-b252-4415-dda9-d813aadf07f8",
        "colab": {
          "base_uri": "https://localhost:8080/",
          "height": 265
        }
      },
      "source": [
        "# Plotting the derivative\n",
        "scalar_space = np.linspace(1, 7, 100)\n",
        "\n",
        "y = [s.run(weird_psychotic_function, {my_scalar:x, my_vector:[1, 2, 3]})\n",
        "     for x in scalar_space]\n",
        "\n",
        "plt.plot(scalar_space, y, label='function')\n",
        "\n",
        "y_der_by_scalar = [s.run(der_by_scalar,\n",
        "                         {my_scalar:x, my_vector:[1, 2, 3]})\n",
        "                   for x in scalar_space]\n",
        "\n",
        "plt.plot(scalar_space, y_der_by_scalar, label='derivative')\n",
        "plt.grid()\n",
        "plt.legend();"
      ],
      "execution_count": 0,
      "outputs": [
        {
          "output_type": "display_data",
          "data": {
            "image/png": "[encoded data removed]",
            "text/plain": [
              "<Figure size 432x288 with 1 Axes>"
            ]
          },
          "metadata": {
            "tags": []
          }
        }
      ]
    },
    {
      "cell_type": "markdown",
      "metadata": {
        "id": "st9rLKcXNm2h",
        "colab_type": "text"
      },
      "source": [
        "# Almost done - optimizers\n",
        "\n",
        "While you can perform gradient descent by hand with automatic gradients from above, tensorflow also has some optimization methods implemented for you. Recall momentum & rmsprop?"
      ]
    },
    {
      "cell_type": "code",
      "metadata": {
        "id": "kqFkWHQKNm2i",
        "colab_type": "code",
        "colab": {}
      },
      "source": [
        "y_guess = tf.Variable(np.zeros(2, dtype='float32'))\n",
        "y_true = tf.range(1, 3, dtype='float32')\n",
        "\n",
        "loss = tf.reduce_mean((y_guess - y_true + 0.5*tf.random_normal([2]))**2) \n",
        "\n",
        "step = tf.train.MomentumOptimizer(0.03, 0.5).minimize(loss, var_list=y_guess)"
      ],
      "execution_count": 0,
      "outputs": []
    },
    {
      "cell_type": "markdown",
      "metadata": {
        "id": "ialcQyHBNm2n",
        "colab_type": "text"
      },
      "source": [
        "Let's draw a trajectory of a gradient descent in 2D"
      ]
    },
    {
      "cell_type": "code",
      "metadata": {
        "id": "HuBd3lqPNm2o",
        "colab_type": "code",
        "outputId": "fbd2f8c0-fad8-4624-de57-94f8cba53277",
        "colab": {
          "base_uri": "https://localhost:8080/",
          "height": 269
        }
      },
      "source": [
        "from matplotlib import animation, rc\n",
        "import matplotlib_utils\n",
        "from IPython.display import HTML, display_html\n",
        "\n",
        "# nice figure settings\n",
        "fig, ax = plt.subplots()\n",
        "y_true_value = s.run(y_true)\n",
        "level_x = np.arange(0, 2, 0.02)\n",
        "level_y = np.arange(0, 3, 0.02)\n",
        "X, Y = np.meshgrid(level_x, level_y)\n",
        "Z = (X - y_true_value[0])**2 + (Y - y_true_value[1])**2\n",
        "ax.set_xlim(-0.02, 2)\n",
        "ax.set_ylim(-0.02, 3)\n",
        "s.run(tf.global_variables_initializer())\n",
        "ax.scatter(*s.run(y_true), c='red')\n",
        "contour = ax.contour(X, Y, Z, 10)\n",
        "ax.clabel(contour, inline=1, fontsize=10)\n",
        "line, = ax.plot([], [], lw=2)\n",
        "\n",
        "# start animation with empty trajectory\n",
        "def init():\n",
        "    line.set_data([], [])\n",
        "    return (line,)\n",
        "\n",
        "trajectory = [s.run(y_guess)]\n",
        "\n",
        "# one animation step (make one GD step)\n",
        "def animate(i):\n",
        "    s.run(step)\n",
        "    trajectory.append(s.run(y_guess))\n",
        "    line.set_data(*zip(*trajectory))\n",
        "    return (line,)\n",
        "\n",
        "anim = animation.FuncAnimation(fig, animate, init_func=init,\n",
        "                               frames=100, interval=20, blit=True)"
      ],
      "execution_count": 0,
      "outputs": [
        {
          "output_type": "display_data",
          "data": {
            "image/png": "[encoded data removed]",
            "text/plain": [
              "<Figure size 432x288 with 1 Axes>"
            ]
          },
          "metadata": {
            "tags": []
          }
        }
      ]
    },
    {
      "cell_type": "code",
      "metadata": {
        "id": "Vq4d1UE3Nm2u",
        "colab_type": "code",
        "outputId": "a62dece4-24b1-468a-8d8c-0fab918f03d0",
        "colab": {
          "base_uri": "https://localhost:8080/",
          "height": 309
        }
      },
      "source": [
        "try:\n",
        "    display_html(HTML(anim.to_html5_video()))\n",
        "except (RuntimeError, KeyError):\n",
        "    # In case the build-in renderers are unaviable, fall back to\n",
        "    # a custom one, that doesn't require external libraries\n",
        "    anim.save(None, writer=matplotlib_utils.SimpleMovieWriter(0.001))"
      ],
      "execution_count": 0,
      "outputs": [
        {
          "output_type": "display_data",
          "data": {
            "text/html": [
              "<video width=\"432\" height=\"288\" controls autoplay loop>\n",
              "  <source type=\"video/mp4\" src=\"data:video/mp4;base64,AAAAHGZ0eXBNNFYgAAACAGlzb21pc28yYXZjMQAAAAhmcmVlAABLtW1kYXQAAAKuBgX//6rcRem9\n",
              "5tlIt5Ys2CDZI+7veDI2NCAtIGNvcmUgMTUyIHIyODU0IGU5YTU5MDMgLSBILjI2NC9NUEVHLTQg\n",
              "QVZDIGNvZGVjIC0gQ29weWxlZnQgMjAwMy0yMDE3IC0gaHR0cDovL3d3dy52aWRlb2xhbi5vcmcv\n",
              "eDI2NC5odG1sIC0gb3B0aW9uczogY2FiYWM9MSByZWY9MyBkZWJsb2NrPTE6MDowIGFuYWx5c2U9\n",
              "MHgzOjB4MTEzIG1lPWhleCBzdWJtZT03IHBzeT0xIHBzeV9yZD0xLjAwOjAuMDAgbWl4ZWRfcmVm\n",
              "PTEgbWVfcmFuZ2U9MTYgY2hyb21hX21lPTEgdHJlbGxpcz0xIDh4OGRjdD0xIGNxbT0wIGRlYWR6\n",
              "b25lPTIxLDExIGZhc3RfcHNraXA9MSBjaHJvbWFfcXBfb2Zmc2V0PS0yIHRocmVhZHM9MyBsb29r\n",
              "YWhlYWRfdGhyZWFkcz0xIHNsaWNlZF90aHJlYWRzPTAgbnI9MCBkZWNpbWF0ZT0xIGludGVybGFj\n",
              "ZWQ9MCBibHVyYXlfY29tcGF0PTAgY29uc3RyYWluZWRfaW50cmE9MCBiZnJhbWVzPTMgYl9weXJh\n",
              "bWlkPTIgYl9hZGFwdD0xIGJfYmlhcz0wIGRpcmVjdD0xIHdlaWdodGI9MSBvcGVuX2dvcD0wIHdl\n",
              "aWdodHA9MiBrZXlpbnQ9MjUwIGtleWludF9taW49MjUgc2NlbmVjdXQ9NDAgaW50cmFfcmVmcmVz\n",
              "aD0wIHJjX2xvb2thaGVhZD00MCByYz1jcmYgbWJ0cmVlPTEgY3JmPTIzLjAgcWNvbXA9MC42MCBx\n",
              "cG1pbj0wIHFwbWF4PTY5IHFwc3RlcD00IGlwX3JhdGlvPTEuNDAgYXE9MToxLjAwAIAAADHOZYiE\n",
              "AC///vau/MsrRwuVLh1Ze7NR8uhJcv2IMH1oAAADAADVayF8oYJVUBjg5Cl8UC950wnQObmxLpMS\n",
              "eTd2N1o7ZvU7nZLqidQWs9IRqH4qZFuUNOvgrgAArGB7WlESNB735J/CfrjEy3i5zjzWx5r7oD4b\n",
              "7vRGf5YZpSE2SfCltWRnqtLPBS3FxRjhpp/BEdar5txSfEu67R/ppgZwAi2i8ff512MwmU2ndVwZ\n",
              "0/IypwbXeLiexIGKwjGLSLtuFQ6Y/OKysfXRdbpNhUrKtfRj7PsZ4sEuP5y4zl61S+z6VZzYCdA7\n",
              "422O/g7ogLDysqUE24GpHGaJCX2wbS68ujTHQP6XxiSrNlnDwZHgbp5EeVkCuMJlhlbRejAAAW5E\n",
              "i95ObYO5PsuB/yXJXIr296w2R4KtEWts2QxCeaTyILNtSj0FAa6n+Sm+7xuX2JriZx97d2rE/cAU\n",
              "Qsh/+Ymis26EZW9S/cjgVqTEtyVS3CIlK2Ezdp99jK7/nX0GHUivuh8QdJ4bhVPEmo5B7TQYe9Nv\n",
              "n+ebyMRkTx7hvj05vOEfMTes/dwPLUI91WSm8NQ11fuo1LrBS7pJhE73vxY1JjcZWnegaFLpPjAo\n",
              "+BqceCYe5S3Av97ANnEBmzojm/SDmWarQluOhREg6XGZMu4a7snjhzyH4/KonlxVMyXTB8Ya3dGT\n",
              "vrxM2T8GRxsFP+Ki2XIeafZhzaICPKgU1x2LYZqQc9bRDlrWDpuTNmcCbrO7DXBPWt4+vc4y9j4O\n",
              "nmehjy3+29CwtFTKfeNDtJqpsgh9q2E1nXMB/b67agis4/9zgOkKQTrSKTL/ETxrRLU+M6bDF5Hw\n",
              "Mkk0WQCW3/aB4rOdB/mjy0qnw4YqFkBjk8S3abocW1VP5xCX6kQu/S+pHlRN6K+k0MK67uDbQpak\n",
              "Tg3oFCVnZYtI4fIdaw6N4CrUmzN3+T+U2DAvRHNB/dqFoMjErvCTrUOM5i6sgMFnPlzXuzglEx3r\n",
              "tNS/ihpBKoZOTd1ViyEWuvp6CRVIYeDAf+u+GRvSyJD0uB2YFMYXUoJNAnwTcmSYyZTb5a4nxvDl\n",
              "TOC8jlarLZ59F/D69SA66HYNiutMC2dploDTw52cruOXTwGu6T12mOk1kVNnQZriDnZ5c7I+N9HQ\n",
              "a5ZPa57KaQLMuwNl5cmGiFp4HWwZktokWS6ak4lEXjSXXAiOxi7qBV49WigxIGR33VW8wRNdN3Dv\n",
              "xgLQBmCInEdpSYWVa/7NpJBBH7cIb8ttDQIp2sXitLdMBUvDn63XlKb2/rqFXm4DJl2Woi2N3Ol0\n",
              "XloGi675i1F6emt9/LLYQhVVKflHygiF0G+O9AVc2N/8DsTZJwFSpbyMG/Tst2fF3Nvy0sScZcTV\n",
              "4KwHspWfq9YHyH4DdFDKVMWM1BaNsqek0yKv6K+jX0LsoL5Vr8KjZJ+RihiRjHS1R2byBoCqoi0P\n",
              "rEI0pWor53obQeyY52ReSt/DWLCDSWlOgDG1tlMEleKmjysrE3aS59PR9hA8bdC7kPhnQ2tV0gSL\n",
              "26GNMIDjsMBRW/3SowhuZbrNmTlxmBYV3hCRfvFysfKbzpg5k1qs459I2wsyLeKD4f8dcrcvCUg7\n",
              "oa5G0vn+lToJZzDw2LcJk1HdFaIWUgC+woiUDqCzpfSNceg028zPwTXzCmJDKwJOvcBGFhwXmp4z\n",
              "wi9Vr56d6r3XzmGGMexwaChFdcX3+RnqS6Fw1gLH+WHqMHBf88Ng0IQKG0O7KY1SfRF+RNUMAqRU\n",
              "kBDnE+T7CsIWk+iAI54usYhOf3ZzwGkFSFlrZlHY9TRsZ15m0U1+pVprAMA4MsGtUeFB07K6uyAV\n",
              "hk2T8AkUAGDGt4sbuxuZG7PcrbYaj8llFH8rxyn95ylTaRabhsAziWWC7fnI6NQXfyLMhYWCHoVI\n",
              "r/iEsCfCLQj0d8obYU/KyGIJsSVNrRLeMmc00DlWyv/ZHiAjr7+xLTQlAoP7yT5iaVIfVSZ9+b+Z\n",
              "WeCsaCl25Ys9K99tuM5jvlafGWZkFq1spKlVeojxVAAMpL8DFV2WUfJVGDMyE1ct046A1kPeiiRG\n",
              "MndQwdVptxma2zKIvc2BRolDDSa8/LEF/DjiwriNa9wikvvaZARq+hDDcPuIcAKXtTPQq2ohiVuw\n",
              "uarMf2mA9MkFrneFjnQM/0s+uU5jgquFlKj9kUf//Lh34l2T6bAG0DTd5uCP6eT02CYSX3QIXsLL\n",
              "vy+OY3KnRyizGufKPRrjje2TuAigKjeqH7cYeCWz1iPtwQykwnhsY3/FF/HX986703GJVFl1p/be\n",
              "f1tDkb3B0ULSUcf1tgTlTn8Myoh4A1wgOqpDaNHzXmTBg9pH/cMjBYQQuTtpURQKVbwIHZWR0Uyy\n",
              "u1MxcZgaHnIFqJXEdLsje/wFD8aC1GUFwM6/CSYeMQWp3u2I+3S4yNoI3fHZfah0u4c1vvNbiEcK\n",
              "Nz6vsG6t0IfQVVeKqAoiOUqHAsu3ZOaFvOwn5EIaLhRH1bjVxyA4jOYhY8mJ6SrGdsncxO1mEKJp\n",
              "VZpQgC5hyDeyoH+/ZrHoyH01UpsZxzfvl2U6PuiBIVCWlKAUfiiMyg9tS1LiqfTp3pNXVZkOglxU\n",
              "AVXLxhAvM7ve5ct6bpU3I6pDH2Liipvmm6CmJ3v7FLEMFSAH/fleCoqOjQA3ybCj248xQb5sNOJN\n",
              "DBHEnP5YJ4jTDtzYbvfyC24/Wz9K1LK057yAuT51mRhoEj3ok2srA2J0BF5mI/th3bLiMXqrnoFv\n",
              "F7Jbp85SUJzo/otG3/hBE2m5kolxd9TFo2JMmdD15GataI/wfXGq2K2K1KbW8DrtvpHzbROuO3e3\n",
              "AQB0lsTn1SgiUtDwLeQEhMGpdUuL6vUzrtIR/MfSIDUT444AOMTmTBjCApv5r3nbK+LIB53KuKMh\n",
              "E4P1gWIqhgveyuzjO5LMBk124zNjbyfuFpbvJkP5N0RiqBr+L+fr2qzU35QRvVND8DrK1gqls4Q0\n",
              "q4dbNY0Tr7219x0kShy+1x091tFmqEtxT5hAvLfmxbXE/XnVzdSgCgvaAJ+1mAWA0FCAq5GobAr0\n",
              "N+TPlx9cYh2BDinM3jlCtpKPgK2CC8NvRXjG+kQKLslf3wmNPLMgmX0pKqEAwj4TnrNZeaQwItkC\n",
              "GMRcLyhDXKlFJ+5NkMfnhv1xR888TU36NlRBZiRS5fVt+ECMzqb/qhATDHMTLPYZD37bRJyRVR1q\n",
              "B7yIuFp7L7cZIHwy8537GsmiyiEFVe9Oq0XlJsdCLfMKR3dCkUZbvaWNeVFG4KL0SSa+LclD1tcg\n",
              "c0Xu89/prve6hu54fkOX1h4qYmlwzbDbXdiTdUmQkwS3w2CPRd7EUL7vOufafBaORx4Aec/B4cH0\n",
              "lbtgc8L3GyoPK7UZXLMD9b2XALIDvq1LhTqkC6ohjqsYhspIkkmO250o/5m0vaLETfSle7pzIxBj\n",
              "nrkuH0hNrni9s093qkhN0l/3/HDjsTLC77bQeisJKBywBMy5YBhoIMGYyjOzCZMyRWdZHlMTBWKM\n",
              "+JQlXemyMQMXvjvaelulNnV3SX9VfRC47Kh5v9ODGZf1ZOXpODmjPGmolHS7mED5TACZ6vGex71K\n",
              "8++6rlWmPYFs/Bwcbmi8DukqdEEgVScQYLOPNxCeGG0++cHzUVK6IEwMfYti4YwZWNUWlyMzSCJD\n",
              "EgfSESp7CggmWqefyps6Xqhim8ym0VRT2UySQM306LsyM07IC1hjfiX9LUJFgmyeisKYdBenJbMR\n",
              "2VIJAYgmEo6rKL/sGSDZ2ataZAAhLeep6V/TKCVH5rIxzY7k7Vd33VG5oV7XSWbS2tcgnB1APyNd\n",
              "RbM1ofcrW0kFbw4A8vJ5WcCd8hp+esUDnDA/VntRBv4ibKWp3LmJhI967fO1HhIgqD2PkVoYiW30\n",
              "BVkY3DLHQe77Xexw3BXacrByzpDr3Boq6MXfbmdf6tTteDhLiBOZKaHkGBHC6GdpLC1tXP/+F7bp\n",
              "vZZIhLaDWG0QUOAsNB0uTWxf2S2VexdiQd5mw9s9iPmmjaGtHRbM4eAbXkSw+SVDscSSDS16GdSZ\n",
              "Yf7DTDhJ+DrfD1ad6ncHnrRTm3XjHXEgrGvYDeovml3qNFPoqWZN/dDGzjHQ+FsLTR/5J9grPjIl\n",
              "0LSA00cRVSjvmby+5cMEDBHZfWLX1Lav+jlgSMJkNqa9M0rxUnwpYGXwIqWkfwqK2Cvu3oH4Y0VW\n",
              "7FmGO6/ui/+1AyRnoSz/aZQ/vGo1AiKTbKTObiQuDkuEhqO/a2y6ZPzndAtpP4In//9JZM1FKY8N\n",
              "vrPYoIURvgGFKo0GN237DJq0gz1qrsZJSu0d3xAm5tibVYBhmSIv3TFu7BEyJN7QRxzKJhkDNZdN\n",
              "KC6ajWybJLHgkhV2EQkct7uxl2pDieqwVD4dA86iUsJp/8xzdfe00sXJo3WVMgNuAW9lshhBUd5i\n",
              "8BEVkR615Vy2shSx6Y8vlrbkgftpB6C3+NzJmlADASCtXVBWPaii/0E0D+jewYZRd4ZpGE1JhyPS\n",
              "7mSpZnhMJpMyLie9F02IpegPgVkywrF5mukkczLcZl/axkF0A7Usg10M2HrRwl85fQFOyTT2GlOU\n",
              "vAqWZ2iQvDZnQMnFUcC4GGqKW2KQFb/CDjTfJBZXIh0mncwrAI6EPiG9JasKKo+b9nZKDDqCq/oZ\n",
              "XlxJJeMjwtoCbJFTkN39glqxkDsAtGl9Rp8UDH/VGy9L2IPbk0WheUmHMzGbthJwFrV6OS9VcUWm\n",
              "O970oaNwvII/k/haGMl6AsbC9NxIRjACZLEGXCyWd0+lJdpN40L//7NgI8lJluwu4ljiSF4nfrLX\n",
              "XKFgVBiqaOdz05xuLnh8KsKWwL05F/2L6ezSDl8OuOfeZbArvbSmWhHV3CQcEZAiR54SWF5oAi7M\n",
              "6w/l0rVoqaozoFU09gKzo+WF/qmdX5jFrDWidvDGSVnbU7NWrqnDp2Dqd+hpjgxMzoUs1YGnfgEc\n",
              "341kEE414+nBqvlrB6S3bbMHPILZ2xzfLIzeQIDF7KRYmubqg/mldnFQAAmLp90/wQ7f9hAYDY3M\n",
              "uN+LE2CC9TtzIROLhdait/UjCn/j3iNAq6r2/codeurG4LMkmedDZvZcBFh9u0+dm+Lp/tGD5tkm\n",
              "2t6rUK52HlXI+kxRGHzKBofmODElegBNGFKTlLHMTJNvOHl1kGg3PAjE5mQno95cxSHsFOP9TWdn\n",
              "HccG0Yy+11mFK9U6NtYdcRoj1cRk35VYeNQWQ2WfYyQ5zAGI/tXWtnV80o9/NJ48yTzwaAaiEzZo\n",
              "7bgzgndaE3aTnL1P4C/jONSZsMVkiOjK3eigSHSQ6XGOInFAIiTuNTeFf50Z4wEfdzRfr2sPEKtg\n",
              "aR7xwRcqK1tKGoBL+1XzVfOYgGnonPJANI1Z9Ps/YwK6yZUOtm4EU+ViEHELGNJCCPMeNPVA2V3P\n",
              "8Zbj/r4Nevgnfqb6wB8eMH/g/ZrYfu6OS7H6VJLgl82CMUW0ExGUDsYb9JiT0joNRSUXYkeBUpHH\n",
              "OHQwg2wLrKxmzdnmc30IgrBsemqoyQwuNkbbFCC5GOYCd9xSVXD40n0DSLNz8LUb0Kt69aAmj8j5\n",
              "DQXRDGo2juQNIWan48mTIRG9uPDLszg9OFY5HMJnoVs0A2+xkogRb0VswrZwx3wx6mtyBLih+gC7\n",
              "1g+gIp9r0j8g+p/tDC0HpnsF60WSyoMc3NExHNq633uGiyJUtu/OEOSoUK8mL5EMX9O/xUTADI/A\n",
              "NL2NHumslGczYAiH/0hwouyYqZo+rmqb5Vc/I1Dm28M4PZcJkyB25LwRGqQglQC6+sd0U1jqUGhM\n",
              "kyHWY+SlvjMjzfHsRczJT6ps22NSFuzPybvzJVgOx8RVWNIP+UQBzp8/VxKM4QZrvfMG6wLzXfmG\n",
              "WduviKOogjIBOBDRD6DMWshdh/ZE4aWwP0/1Tn0iW2Om0PtKvpLbm0wrOHiKW1gMB7X+UFsiREGX\n",
              "O4Lgf8QnA8yI2YbRtIKE1e2CMMVAA1oUFs7Yz0B1zwyn3dB+7eNfUESjPleWHk0Aigr7+pqbvBPB\n",
              "7/+yWH4kUCdA0DnIgZLJHoQsDwu3wvfNlkdCHxf/yoU7qZ7ZyLOBPDiglNfEMTaUwF6VwR2SIM/6\n",
              "TA2vguPLrCqdHSnvMm1UyLkVa4pegu0hiwrGK3n156PhsFi9s8HQjee7V8PukZodj1syCPQ4yQ3R\n",
              "EuvcdIE5FYG1JqLFweu8ZfC1+Dbg7z0jyIirFsnMv811kYRj4JOX3yc3Cv9JBbA/w3qS7wXnvIdU\n",
              "k3uzbtEZHtnJaOvJ5Jwd3G8c7HpcZnb9njWYfH1Z8/ZFq8HvMeibPL9s31nygRpFbOc5Voyskbxm\n",
              "phedVGuApu77FxKgx+unF3RoPVBRVbAZYU/sMPAfo5b9kP0lv6OaBlYKqqWZtMXa+DU8R6T7nlye\n",
              "nRvkMav7E8fE6ln30/V6j9FX8fQk9ME7aX9d1iwqAcPE0o9EVT4mRpLuTCftKCzGa3aSYl+0R2iF\n",
              "I8r9AvgWZVtlHPbfiK/jACNHskiIFuuTwONY2uEPoH5+9vUS+1OxVgwjL9YIaI7X4IYKjnuvzS2B\n",
              "tlcVlwk39i0fSQ97JFjjrxCuy0SXXpYUL4ujJsZeMsAbxvpQe8R28zqlP2dT0MHe8+QKm6JisYzs\n",
              "aauYmEGlkXZRRzr5JbwikB8c3VWCQuBkqxTZUgHDusylWK+5E107IBxIFsekBVdmVSzt9FrS/ltA\n",
              "6Vm5N7qO3ZaedY0Si5VsnpjgQX+onJPCwUesnHW+ws//uBsaLsg0oOKLX2NvufECqlZQ983Jpe+n\n",
              "pm6cqk7xZwNMiDTdurtIsIPODKp+GAOdn240sNMj31b+wth9XkLoFLYzD+Gjodf6Rz/dWVm75S+s\n",
              "ucfmz3L1HyIO4YCxB6OgWJQGtQ2WZH27YOhFvp+O+v8viUt/jgJMxpQDtr4OtbQT2oc24IAQHnwr\n",
              "zj1UiWidd9fyanbTGVcUonjWif4vQ6OWTAQAqn6qogQYRR5JaWSR5tFNK9JCO0eXh2Yii0ah03Pl\n",
              "+T//AvYxbhg8n+BJXNR92v3R5qd3ltqNbS1LnBYHQNQjNpWvlb99n27M0kSgz8BUKn8tWmy69pSL\n",
              "4eeCurGcW0zvrtmUmu6Hirn2osV+X3s6s3cpgtgNhdStN/MqEPjgwVy4eid6MC36c8aBW2nv5KC6\n",
              "1/JMPSECChXTauJSqQ02oPj2PxHb2HyUu5Ezx2bu1iqsQJL1HOcwdQ30/MoWKzl2OCQivlbr2RdH\n",
              "T6pEmznTm2Y4EXtrlZlgzrgn1r6r5LLVW1M0bflT/0H8lK6KlqIcaWafskxrYQe2IZCPrpYJsfLO\n",
              "LUnQJZA7AzODB6XfiusTbHfpsA469H3QJORGgJxA5qIBr0dqC5vQMDc/GHuho9G5AgWN6j3Vw/K0\n",
              "LiZSvJnZUarKEf2ofNGXRRyuDbAHZ3++dzEcqqFaIYL5N7OTR1wiZKnIjnvnlGojEy5W6CVaKWnk\n",
              "9m8mIHw65bbfVGHi6qBxfMuH2cM5iKqsHhXjlJ/wuzB6PLFAKIVycVrQJvsQd/oHXxO3m6YkYttR\n",
              "SYCZfj9Bcjal6CE35vxJnYG4KDap3EFhyD5M1GY5prEOLspjb+1r3unReyfmwOxERAnE84Z5gXiw\n",
              "24gwz8+5RzWJ6vuiwpNHBkwMgXR/vS+7z4HJP1R7WsllGf8d1sNqs3QohuKvFHxr8CKT8lWVFWWQ\n",
              "MvR9wofnQbEpXXWsu3foS0O5sON2GgyCsK60Gdxopb4tRvwcP5B+opRf484D7gB9AiyIL+HFOtwI\n",
              "ZcbY/uXK10h81czxLnA3I9FcwQNU6PdQNBXZPeWyqhbh4DypCPoTxRmOnJaJ+m0ndNirylTMoGnz\n",
              "J+R9iw5JgkT9G7mzrdgQUlb45St3T5TdPGpwvsFexzTh1I8aSF5e+6d8Ne8PacG9HkusIJv+Y3Xv\n",
              "wWtbQm0cJ/Z0RCnyBHpyUWL+L8/RWwxonFHPV+/x69JsK8dBPe4Sd6h+9+FXFJWFAgWZ3Zv9azlf\n",
              "GWFc5sFQB6higOwp/CFDUd+7x0qQrr4XsvzcqftwBHohryEVWpRPv13A73xcFBoWo3JTTT9hUK3f\n",
              "APkPm/4OPhui4LnzFRjL5DGPTorRT4poF9qas6iX7fMJPev8oQdBAGkAFmVk+2jR2DOlOoNon9rL\n",
              "e8zvp4bQ8C1VfM/FPcuLQiElunz5YJe/HZnps4EgW73PovtnaAH5kbdE4vrs6DVyWg/sT0ZC1yaB\n",
              "xG0JEsXkl5EGpEacFCwJ3+gIr7MCYayenlL1acDa83fiwu7PRRo8gu6WJB0SkfmYv+8ybA7J9SV6\n",
              "CATx7lUkU9G6YU2XADfUjCTxVJDjtBAbiTj7GhI5n4/wScKcEJUt5wr1W1thZvSbAEppnb3qS2al\n",
              "bfyanXeMFtsXLPPLi/CnyhDs/2Bvrpblsbp3ema+aXKQMwSS32vckr/ad2wMBr8S7LJjEzAirNsQ\n",
              "6VZddYtSM3baUho1GkWYsbV6pw+7BPqR76P34qtbtQ6OqufM5+sgquWUmmwvWCDP8JRXGJ7d11Qu\n",
              "b3uqHzZT6QhPTMBRrpQ/2er1Fo+TBWvX/SfPiPkGT+RZOK61NY0jstxMfubpN5mJk3EimU33oHlZ\n",
              "a24/U/giCEgCbm9EDDCPVfUg8UOg9D7U8n+O2B03J79YSwJ/f8WezaQ0jx2uZdwSKpXwGxXAjwkS\n",
              "klqTJcu5+r3mDENYTDYggiALGz8nxl2AJ5ut0WD1nFb9Qu3Mjp1TSn1xWc4BfMf7sXXq7rtEfTFV\n",
              "kM7dm6pi+P0vxFBoNQqevjWfaupaWAKNpv9cH2vsQvadi70Q4wifNmTttvYJPuxZVuSx1JdDXadC\n",
              "5LpOHRs6BOcYVURPH2AfQtC+CZYgpXv48S9dYqgzL6otS76tgoBg9CJO4P9Lc5+HkwB2/SqJMl+H\n",
              "njbWogb93Txe4bVEo0Gk9Gfi5Z5OlXv6JdbfWo2rcU5heWS0Q+7zbAh6O5WbPEDXcoXb5P1KwIws\n",
              "+/Xcvab78j+Pu3N4YjXsp5jgAAtyc6r1/2oocdKYDEFua+e9SczhuhvGtjEISQfNy+AFjL9epg8q\n",
              "Zz53rqGbbiLSANWTMS7OetYEV+hvyrbGEgxQ6RdiT1zxqBZ1fzPe+YpFk/4LdUbiezZzzkvH+skb\n",
              "TMfVb4vh7YIpDhelN6NH76tpdIu+RSqbreQpPmkfWpHvZbADims+A8i7EuV9QPSaAhXwxFWvY2T+\n",
              "cD18dE5Oa6++KIAaIHR7m96LT0HnTQrNbG0Y5zlgdqorRwW7RDzgzW8+CMOL2LdEHwREgZ2fGJJh\n",
              "hFgIjgvQ00uyZN0PxptxsTZyyIHoCBPbImoqNFOfM3QIU7YMVhAKOZNtxq8lCQoltAkbTTqHDSKs\n",
              "G320Tc9NKayJveeAtWD2FoQp65Jn56UZjqBMWHhR5SAIuRWPSGInxu2XUiG+3aAuNjOu8ljzn/G0\n",
              "eQarsrRbnNA12O/82ZONQ7XgK0g5hYJYP+SjohNvP9Hpdx8cM1hLNZ9ZlQR5x7tRASsqKlkxQ3W2\n",
              "u4/oLQMgF5OX50yrPjwDXxOPH5Uqb4GgF53aNqLHMHF9WEbRiPsrC4sxgtI/gfEmX+wZbwcYUX99\n",
              "B+ynk4LL7zvPiUr+LEdK7iTpUWLT70mhcA1hKE4C4PlkG6FFyseIh1t3enzZ9NCyqi1CRNe1ZeVH\n",
              "fq3GfTzS8Fb1ylFlXpFYlfas/bNgUO5Bo9lsq3UUyIOuyJ9NCsFsXtrLMWIlZ4oXTqQ3yHrZgWH2\n",
              "y/MTNDvDOvhGVm17e8Y8XWqB2x1fqUI+gYo3v7TSaahOFtyqTE/25lW7m6uii10rrMjkSbVGUVOQ\n",
              "pqYEWgX+hTfo4zikKN9r0D2qEzoMW+O+6LYYfwT36VcxtC6PtCLkDB2tNpvNhyQ5g9CYUwtqw6ES\n",
              "Ka11aUy40fNgXqFJ6pruI8j4NnqIl2ViGVE3JRn2GMYyISto/CuvU/JfxMLusJNY+tfgOMePWW3q\n",
              "2bhuIyfqAu5+7ymu+x8FyfGjYJYWi798T+mu6B10vkJarP7yulvCTHl0u8DG/sWaqSPJ26F3CDMN\n",
              "FKJBXZqa3Q0J5GwLdM5zS18aL0XQ3PQX5PMvG6XmNRrBIrqKdxDOv3gSkYexQF454yoQGPXdRIJi\n",
              "pFAYVs+OVip05YDxIb+CksRsz1IFf3/9lmjctARObJoQXuaBmG2b7Otx1ECs7weDkoD56l8ktSJq\n",
              "+ON6Fl1h0BXj1D2bg98V8qtSGIb0llD+FDg7ckQeuhwjZK8rkbTzb2CKfT0H7J1l+QXlzr6866sy\n",
              "1+zPiYndmwIIuTOh+3YHYoojY3Z/f99CBnJyoFLftnjTJxJqNzla71CfjlndCPPNXIVyFq24Lstb\n",
              "O34eLoy0Cu7HuUK2sI8us5bgXY2d8bagn7yiz3PgsybL1oJYIVehUQnuiD1lCwNZsky/WJlziTM8\n",
              "LQL/9CCGHKnE+RLUcPUBKek/fD1wp0yZqMLH5JWyWq8JjSTu25tgg+LaXAVwXt30YOk0wzwAeeAP\n",
              "IT6EVVGbeUoIiow+qbUd7rFy0Imr6LKUJmrLG4Xk0lxw4sVZOUvnEL+Q7uK5/n8yUPHP/JgarZoH\n",
              "5uftfHpqipblwvVBrLzeprv6hTOUO8jix8DIgSEiRMh0EtaGDZOi2jpL+3zwJY+6xThN0L+GNr6L\n",
              "aNrnbf6HEjCJC65HbAdgqX9Erx9Emup8Njr62FzEXSousuB/QSesYPoms6TFnnkEss6zInA5US3Z\n",
              "RTLPOOltiUm52EeSj6Pk9ulJeiOGaNmBlowJFs1a42Rrhpp9VCeIWBzlnE3iRW+iSg1BjI5M20UN\n",
              "mk6egjAnRn6thmL0xYtG6SrvAU3r6pOI/4Kb+Ig1yTaWs8OZL+UtRdRp+5T8xEQ2zhzrLsMjpZDG\n",
              "qCf6as5mvtqwO0gJdNVvXPDloWuV9JJ3i7cjEOfhEtBYT3SHsFVyqjetIz7vqp6511npGG51vNG8\n",
              "M9G2LVxBcmaVcYLNRVFRDcm0kitGPuhtq2Cq2vufOX/vQOgloSqMtD2UT5ud2rTRWbPzNPBEPG42\n",
              "IUz4rD8dCLBdZ/AYjSOSj3JF00YDo5E+UGW3jYKqb5bRhMYKDE2uKLonJ4WREmKfMnqv4WlmIUYY\n",
              "eS1AuxV5zUUAw4Gob1hqm8CDfw4L80JtibV6LbxEbaV6geMfopSyiCHrJ8YcoO7V75RqC71RW0Yi\n",
              "asWC9KnacE99X25XsDi7n1ztt3jJrlHSAPd2E1xo7HAG74xHn6qRqRV4r4Tj60eMIweff9FvwOC7\n",
              "uLqwnNEsYokWtl+D3JlCxPt1A89jjcvjB5FZ+PBFl110LAxyxRYaX3bfwCrzA07eZsLdZB3QZoyq\n",
              "gyamgXRL4ibVn81BV2bBtg1iq8kSC8qfws0H3nlcqYM6FqAGuyvYslZvRk4viX2j9NGAZ+NuTNAq\n",
              "Bk8rZBbTDyyUCZ90IDFcjcnRGqkLab+1ouMp64ZNT1yt402shU4vxkU8eGxfnLhh2YrwW1+Y83wN\n",
              "pT+LLEa2OqLwGNB8TpSWMS1GkaoYbA7awOPcmWVBIEzlBalwxEqaOlY8S6aHg1DTRPLaxv4+NB26\n",
              "zRQanV8vXvipzeLNz5AveVSGlKgHXExuaLAHZnqWONH+tCkXCFrchau+FQfeT64s3h/YVkxL9lVu\n",
              "pvAO1slA6lQwqXorxZD31Z96LQDwCQZLfXa8L+5o6w03zNjNdekpJf6n5HqOUkBeR5lwiSmj15nM\n",
              "0XwtWVELvyex7j5FxCTNLQECtchLdfIHOxmrhEaVg/FbXYOtdV6xraOpkhVykeqmlIkWithsoLYj\n",
              "xgBQErC9YIJPtJ6hofcfbz4FmTmsYe7CrvYrcjxXQQ7sOKcY2jEBt0ot1camGuodOsDUPaZymAxJ\n",
              "02/wIUQYF6ZflFuTSwY26eS2e7vCIq2CPCMTGZm8Opgphhbahxj8rluvgjISeb7ObkoLLzQa21R3\n",
              "rvL40YbQPXfR8o0UxJoauh/Qqdb9BCjA09Xfk5bd8189hzxpQuQ2IPaPNapW1dBC473vRwcU2pkg\n",
              "g9X4T4QiH9x968dx3OdU1DbCqieuYC3mykLn5AF/kZBdHl8FpCzlcAvKzbKIDzNnieDO4GXuvK0k\n",
              "fVs7JL7SXWZXHf6Ey2L+ajTiYsHtprvh09Bin8GCJBa8gg4WPHWV31aQA4ZJUJpf9o2q4hHR0Nzg\n",
              "sjMLXvRehgo4ZY43+1nu3nJFaoxrB0whjc7aQBghU9c1W7nf8Y2ie3MSUf13P7LOCxm+EoAZURm6\n",
              "OpuNJDJcVGP+aXby/4HSyUncoUADhIeZZunw3ScrwI79tTnKcf0+FqjLQZvKRabFDPvtMie1KBEU\n",
              "YmAnS3QTahIQeFZ0lo3Ssq4bXVWNkK3lQ/JXZAAR4UxYHEhW40+C4vfH8xbFhLGZbdboVRslGb9v\n",
              "Grg6wqe5+3p8mD9oicAaBZ4rnowWtcjtBLtEyf+M7KMdvI3TGGp21bgggAjJPhE4OFXuyT9TPa0w\n",
              "mwNr+UkKj9XKVtbrwn7cKfx1jK7kZy+6XIDkxBcJFCQqcCrnwmx8L3pgrgm2jG7gIDRvWUA3HVUz\n",
              "aJ5LeV3pPOJOUzGbqf81mIWpZKYoHq/6Lk2rIxSrdJYj3WOCKqFYQx60lXYj+Apnw3Ve48LgcP5+\n",
              "izB+4DqdA6FwRen0Gc9SxXLZa0p8EYjJAideUrfMEr/uoaecDu/cPI6+ONxkMs/BnNq+ZFsCTi3e\n",
              "z8oOzPmkMTKUiCZlu6aPZ+jA+rRBxnM+KKTcM0U9xihfIMu9x6PDL+kpJIwTJjhrQpRWDH5QpSNg\n",
              "xeiENLB0zWJip9PVzwsq4tE/DoVdg3QYN8le1YiqpSwZghdVSoK+ofkQhdOzzziYiQbx97Ilp1vy\n",
              "4xZin0V6MbBizYaJ8GsOk6rdSLok5KK+piZTfdAtax2RSbwcSBVjN82Q6odV1mOeKaL17tfeGGeP\n",
              "fOGHuisK9+Mcvx7DCIs+lvVg0l+w/0tdwFctnBCaQm9iGWRUwfeB8n3hRQ3eI5V5Hr7Q8SV0DAF7\n",
              "LGOTWbeuda4uxZhv7PqzMrgs/5gjFKhkXGsSmygC4mtniDDory4dgLc/UzGK9cysKsPpKup4fMIO\n",
              "ZIDYUWxJ+P+CKrlAk7k+UDI9zUwZQV4na+sRCvRxvmcgOOF6Oghg33GCwgK23vL9tM29u66A5//G\n",
              "rEsDWm55yXHm5bPvDWYgH91ZpsdKVmCv853zSNvs3oM/lm5QSG1036AWWTzapTnv2A6Lu4cxJjJB\n",
              "SzDiHXfug+v+tkexkM81fcauXZ1NOGGHGgUrTz8QhK+hHDyY8ujRkB9dCd1WM8FPspSnK91lfI+M\n",
              "LAk87jL0FrQJyzwhPICZRSxnfBJuJRY7IJpVc2LJXfidu8Z+xBuMGxSNzCaXBCXu33hTvgexd9xG\n",
              "YeeRYylry13f5J2XY39fK0iO/KS2JlqZOqvozrXS1cdh2ZWIZQOTkF5BfMHMJpmoNDDnNOr570yW\n",
              "N/3TXnWw/fEW20rPOlS6u16req7QPH//qO643c2kSox79eUPU1uNSLz3zNRrnonGCK1AlTU7SYmm\n",
              "qgTr+zTrXhYYdpabvoK2RfqCQEbcdtut8v1M5MD9V1dxlnZ3gVxVoA/xOYsAUa37Vt/Hmj2uA73/\n",
              "qy5h/wjl+SpQMKFdNnnTt2pnxlt4Oc51KNUyUwL7G8yLGRxt7WF93NbEIQwyWrsUS6+5dXMowvRF\n",
              "qmV8J8t15WQQKP+NQlDkIYWHFPKcC2QdlKm3hkgRtNDEMyMNGFBQv0uuISanbgW4aJ2oHLGZcGgp\n",
              "ITKY2GVDczEo1/jzm0JefvhU0A0c/IoVtpYJu1oTZGxKGzJ8Asafy+TQYBye655XjP7tuBJRhHv0\n",
              "/SErplrV5xYNIpPkeBnkrNKn0eUo5cZPq5qENkN4uRXzoB/o1xRaYenspa7aVHh9s8ZbAoVSnap2\n",
              "cCG95C0Nwyu34cgI6iC9hL+4A6adnI2vBtsafGj23mYqQGLtZVh/aupMwBub2wNKw6+WlzQxeumi\n",
              "V4nrZWRotEQqKHYVjIBNwSq/7LkPNysu0zx/ZMRfixBDpYZloHJtQQ2BdoD9qpXFN71HrW5lxX7O\n",
              "IlNDcqPlPh4HVS2byucI3yTI2ZDBUDqVutHoX5qu7hNhEniU5Xu9+QMubuAazh8goqmNZam4EVbs\n",
              "EBz9ELiTrF576lTwPkESf1LMWrTKvhPq9IYX0RMbdgwe8pajrNRuSwKKuc7vvIT4pTNQzS1r5ctM\n",
              "1QHPYPgNXlNrBv0vyb4dNNec2JuwQcBXpMXawDEel0HfMwj5mrhLuEUZrJPhS5ykc32+s7vC65PD\n",
              "hMGd/tXhnS3yhdA+kCKTvCqfBjqDjBD/8Tu/980HvucnTiBC/cgexlsL9Xuet0vf97Pd+Yq4ojOz\n",
              "KC/f6Y3pABENk82H6cRN+oYQCHTXGmLVtILTBZ4ssHsgqSDJjotcX7bN0ea+paZKhUGKUKAu1cRu\n",
              "xBeODzGdg+wkzP6seHKivwYrahWmbSP/aEiaJu8t1ZgoxB1I4QkbCBLtGpXcA+mW1I60p79nsHZw\n",
              "fFBk2Z+gElo/Qe98CnV/+sZN7kUOHgIsjqXpCMKMw7eI2EMTja72oYfi6KHvMgDCE9LBSq0MOB8D\n",
              "6U5wo0L/uVpuj1bR9ffDNiZZRwUf3oCEW8gPTkzw6Z//+uo8Xvy9a7BAg2Y/sbAADWmPBUFDhDYw\n",
              "NasTgUh6KzAFz/0QNhTf4v1f4u/QO2FoCU0fEYofvcGH2c9L5E9S2ua2/LQzenkz8yS7UHWrzCFV\n",
              "MyxILfn4XR8JLh62r137YAzIrCuMeamuN1TTN7+P2+HhrYsFTd7K2hlM7ps+uw5gYGWe6OHg/zr/\n",
              "Fs/3YERtpZ1z9CRrugLtg868k/HWBSy444/ROBOgUuGUzUni09mEdZqdcZ27ipybqqJFIq/q4U2U\n",
              "aTIsVdoNaSL3Jnuwwvso6oOIFKq1fd0tCZMvQBwaT/fHN9s9XlAGVDUc3LU6KFScfJJimV0gsa9o\n",
              "hAmyseq9wM33131CvK2e0+2tjCEKd82K71rr3UIqrOgheLeqLk+JjeeYi4ne8z1+CktHFugHoPzr\n",
              "IO/0WYQKrONuCDFO9qrjdhUcDiLVwFnoh7cDygNc28FvONJcqB/xWxeGi5/rpcqtzGtZi9I7mdsJ\n",
              "ZYRE5/DDZgBBJ0hL7awOJ1OWzaKWNNJ85TeAY3kBnlLS85jvHAjxDv3MnBl+Gx2yGz/7m+XaCakS\n",
              "DjxpRZRwKLGByB2aTFWy+urrtnglvVQsz7SctcgWHGrwtGvLY0Oys+EVeZArLjMtKvVJOMfvwvQ6\n",
              "YYUpOopGAcJxq8E1CA0XpJCu/+oxBkNBU4le4XLmfwAo7s+yZEIYmeDVksKxO+VUWQDCSuf+lZr3\n",
              "LR9jyYM8acnMhTQjcz7S1Bx12TTxyMcIemIPUsuCa/0/eDzlTmYDvk7oH4+dgtKM6yBhvnDOpxmp\n",
              "o+adF8u9H4dXrn9ym/wP3qbER6udRi2cnRQRQ4/zQKcGJTicUtYX3PSlxFsYljd/c/B1qMsAzmUh\n",
              "mtWUFNE3WkEsd1XeeTnR8l3HMAhPUdd4K+kXOphcjjSWW7HXSVjQ4oYkqVNygMn8iibcFhmkDUDC\n",
              "CkpH4XyU2TapAwbUVC5srfClZhSnUnz8ilgdWJ2OGxctKHRXsmRMdJsCmDGqkz2dgs8RIrw5xeOH\n",
              "wdnSZBD8eORINW+lNUWXHOPaxX5RWRzq+o9bRpQH7Ng0L5Vkd9cyrJAq0zp5SXUVdX3YzYIeTZBO\n",
              "1307iP8wxYowgbBMns+sl7MqgRWe1g9CF89npd0K4kwYjEr/Qyu8yRDDDV1EOlU3UAMQTIe/SSPi\n",
              "xAVltMVraEdOxqqfRt4JHKTzDQa+tU0Pq4gsweWIbXzMZ7uuuEb3a0zhvUoqdz6amTt8QVdPecAN\n",
              "OWNwrA3EIO97e4wxnLYC2gDG+GGVxsxOONCNW50aIGAdMUVEtw4OpgbYzGcq0dleqGObNqo5FGFw\n",
              "6s3MxqjccNbiH9z9TnGU748AiDzeWpzhqmXcLKZ+N2Z+c3XCUFlKIpb0B+Z0ONH8YVwwNVCW4y8y\n",
              "2K3qtGW1QiyM0Pyz34ZzBV1p0PK/nz8beAmmjvWvWmlEXDb34HSjoEOkUCmYrdumESybkY6z8y9K\n",
              "31cf++vGB4YzOizy60ak1RnOWk5npK/v1bNvwkPrKEAZkBfOhtbjC21oRLxqzuKq93jQWzztiC2x\n",
              "u+0jvsA8nGIhtnHyIs1L1CDWGXQnsPvSSfxtq77kskI/szSxW4mWYNUBW1ryIaf2Y+lAPQMYZQS+\n",
              "hJ74mdY26/h013BKa6KI9VZxdOQAytfs37FzYceE8EgLKD8JBuGrnFJHUo12S4qSglMfhHPkypWk\n",
              "9nfTklLz3QCpiBKg2rLtB5SSM8uKrNrSJKo+jnYNA1iq8EWL3iUwVR3hgu8KFGp8vrHBE1mrJ9kQ\n",
              "TdvV/FdR1XZLbxLTR3ut4L9dzY6nNDJ9cAkMEgOl3Jt0Ts/DnpkbpRtUlspW4AMAGNY7fsw1SbxQ\n",
              "AhpNkw3FJalH3GIamWrL+fQR4HnV1GNW83MaBKIx+ClbapYXEwRQf6YxX2TsZAMQPBD+Fe284HXW\n",
              "zVli7Iw4gVeE2cilKAMlyjaoaFaGMt1vTH1Oh4TuAUeuxTV/h0FMFlstEoSOQhPwWYvlX6xdp8ii\n",
              "bg0Vu9xGoBW9lEkFyBZSsXjg8mc3NmV9CbeeqI4B5fninTDUCmYrdbIep3IU2wvynoP7OWnBlaZA\n",
              "yMxN70L/4zvsjEv1l1HQLA7AXqcUdz7gpsrdvrvtUmsXftLcQjZX+hrAuQJj8IbItCFXwVwau2aM\n",
              "7xn663zxFC6uJ6SSAog/W/X5NG8jEy3tFHoIZgpVzXRc65znmHRn+v8TiPOXM3MKCYJL0jEn4Ra9\n",
              "wgofHNTOcNViHvYycywP1L+JdqO3h82qoPYwlDyL718S1ShAMEQYFyzL8cfZRpbqvzVXAwqWmPpX\n",
              "OB4+C2NgJHzR2O/6OaLpZfPWWx3+EzaQrAX+8+AAV3JaAAFxAAADL0GaI2xC//6MsBzcTk5z4Aey\n",
              "kO/0G2QDWqi/hcjUMSVj+XIXovUOPaWGhX9+Y8rwZgYATyTQKKoNFutJot9TK54Yxq05MzCIdokG\n",
              "+VIr6LShG9H7LAy/2Xnc61kmzCsue4xry3ALfbGYH4P6f4jo+YsyCaPKoQdo8lfiMp9uzyvlUKo6\n",
              "11wjzqNMRS6zGDb5PyDqKhp+SeLxh+OolEqEDOizkK+92lv3eLfXUb5VAPRvGl03Z7TP2hR41bz6\n",
              "ufPnUXz/Ecs7h80jJrgr+IjTGC6aJVKkepnWx+DoY0FsSubS7Yw4Of1mzRCVxYCjj+YbBTqOaK70\n",
              "WFEL3AHRvl9/u/d5bBlL2AlCjqK6Bgn5iZctm2YjeKWXOyNrAMx+i9q6tIsMSifguc/NvIFbaWH6\n",
              "+PgFCsU1OKFk/I5hk58qFZgyCS92hrf4GtDVi8slgBvk9IEjy7SEtEc0nqk3N6xLysbNOJYexDcg\n",
              "IvA9RZPvYzxrwCRPLE/fAvcin0YM+4Ola1JwGlQjqiK71g1+IpaZ2rzfoGzzFZ0VHvtM8NmeeULS\n",
              "dDr6lIGvVZV4Hrww8c4eDc+O5JYjPXKk96Y/zP/7LVbWj3Hn3vKFxhUl6CIcrpqm2GATRqOXzXYY\n",
              "wVWH4SCjAhKYkGDN0ueGqqkJRLayLLyC4hv4x0WcnwuSKWFIj23vhQem28MGA0F/wHwsAt+JTCFb\n",
              "iunfxPF4NhW2Bs2NDGfQejrHeP+IxBXB41Wyus7uMesj3a009ZfeejICpZYlgkhoOwA3d9yK3Y9G\n",
              "RKe4vGYZohWXc+R5Lmg7xgowPc9SdFLDHSHCHNE5PFN3vLSfAqVa45isOvxFs1WtjB9ucrEeSznW\n",
              "EUanTfm8SvlBjaoyqIfbxgdVOm66V2seSNaz6bzVnWJO4LNaoZwBW6hkaokfSonvoPei6Yy+v9eH\n",
              "wuHuzdibL7f7qoRluZ5YH22gMp96UTHVzQenx+zrHQnhr57N5g5adLY+5e/PejmnOGEpRxt/AiYP\n",
              "hu8bACXCMwEtX+y12QBMzAOAGpx1y5SYyJhFZz9cSy6d1qwFM8KmD0eyM2jtKkbjMnQFkGM+jGrA\n",
              "AAAAVEGeQXiEfwNo666qXpGeK9Zp7Gf4OY9PwwCHmgcy8SpqMvAXIGNI/cMkSISTdXON8+iY80Hk\n",
              "N5AkRTJcAar7rhcQATN6EggMOEEjO4gYWtpN8rODVwAAADUBnmJqR/8H6jSmlFzOsPi8B5B5j7zR\n",
              "/CfNAPnvEkYBMoCZzYAFxUXmrLBLWhnO55WT5Fxp3QAAANRBmmVJqEFomUwU8L/+jLCE4nJznwA9\n",
              "kmHayrCey4Cjd2Kai7mgtW9MAfGfy/dD4+wfcD5NPikCT+EAhPBapPSspsA8OO/z6K8CYpgpv+Sa\n",
              "dqQNew/oZF0iDw7X2jt6G8CQ1PZDgGOHIb4EL/0fbMmSfLbTK1sTmh01vuYicvfVpQlo2s3zB/1f\n",
              "aP+EJMmSD8CsrNZ4wgN1AZj6haph5z2532vhhOaJVNOhY9tnF3m3eqpNwVmhyEcPM67TimGzwiII\n",
              "XiXkhRpG9tynYqLUGyYrEA8VvQAAADIBnoRqR/8H5Ioyikqk3xUASuhE8gEwrmEb4klbDMU2Jhmx\n",
              "zwFobahGYAE4zYRpQMHPUQAAAKVBmodJ4QpSZTBSwv/+jLAVHc0GtTlbwN/5w8HZ271hrInAUM9c\n",
              "Jb2I8f4SlQyrW3teIlOhfuKEXZ9Lnjo1LO7ER/bZmcoY6fCBs5+vAjY38UG3slNW2VGOSKznbKY6\n",
              "O2GoOEoxmhV3gypkCWZN/iuroGbQMmB1emUUHC/XPIwhQSy+1nQYGL38xtkP5nswVa/18zRp1ZTP\n",
              "h22Qd4b3+wTKhELb10EAAAAlAZ6makf/BPJIiOrrzdKashA/XeRiJAwes8AE4z7ZMNVg+c64IQAA\n",
              "AH9BmqlJ4Q6JlMFEwv/+jLAAAZSAgcAmvozCBNL3oqXy4DTuaNdpbSCSxYxFM+jF/QIb3ZYMZsiu\n",
              "SoPo3la2C4ySwJsGn+Mnm/XjRW6SBw49V6fuiOi676g7Cc8jMQrh7e2adxny3Ej3a1kvE5r7Bfgc\n",
              "nNg1PFAO6hWKXNP+i0qMAAAAHAGeyGpH/wBxQniPsWLefALDdNgfAC6BSfOSmfMAAAC1QZrLSeEP\n",
              "JlMFPC///oywAAMUFi4XBUmwE8DQyHpe+AYLmfX6kuDNp9IEWlvQ+gq2vETXHc65k2H5DnawTQAX\n",
              "jKCcfm8N37ZOdFx5eTMGjfyeyiy0TNYM9Fnpaog0auWVLKL0XZEPapp8MB8KldbRdGsnKIDKfxLm\n",
              "nzeb67Cc/YEn0d3eQ9dyKXzpzGovRNQf+Gz+KokCX0S4hvk2U8vGoNW+4lNnVzNFmRZfdtmCAsl3\n",
              "tnDUwQAAAB8BnupqR/8AcUJ4j7Fi3nx+23gAXQBO2pP0O2jnrAHAAAAAl0Ga7knhDyZTAhX//jhA\n",
              "ABc7bZgKGdrlqhM9Vb4CgCV3uVbW9rPIqOKlAT00VjzvDXE9Eg++R1lw/lYmuTca8TLo+KJNuKrX\n",
              "JmqSLgoQ8Cu4B0I1JcTgJccJUllPJwOpVSB3xn22pf5vKde7Rl/A9a4F5OP/CKU3Bts4CsihMOdF\n",
              "jbpM2g63EclMPf7v+/Z1x6JM8x3y8WAAAAAkQZ8MRRE8I/8AkSipZDUMWyvmuY6/lQgjK/gAQ3Ye\n",
              "bfb705vBAAAAGwGfLWpH/wAjvx73cj8AJkZbKfLGfJcdlM2efQAAAIBBmy9JqEFomUwIX//+jLAA\n",
              "BeMCYyVi+ADlidNu3uTC3OqZ5//GYV05Xnh2sC7S1LzBiGqFFpR1E8xOULdIs7MEf4FzYePq4zgb\n",
              "UIRMAd4yab5VBqhRtLWuijUyDlFryHs/VUOFRWTvh4LskyZlqccfDhkdLOnz2FXSVdi9wcvgXwAA\n",
              "AHpBm1FJ4QpSZTBREsL//oywAAtxav8AFbv2R0CGgrD/qQHLQ9HcGvE3xi5o6TT/TIRwaW1Q2UuX\n",
              "J84dfCdOq+/6lrOeHMHSCEb+bNQXgR13DILDALLp8SQiPLdPeTXAtFYeETBoK+N5xEoz2O+B4m3h\n",
              "/1qj+bMer18nLgAAABcBn3BqR/8AcUJ4j7Fi3n83Uq7KIBj8gAAAALVBm3VJ4Q6JlMCF//6MsAAq\n",
              "n+MGTXK5T5dv3PY4CAAvNKMfSkJP1jaPKnp67T1OWsuk5CJANEdejBcA+nNUyPZ/jhq2+9Upg/rw\n",
              "duwRmMSLP2gHVUpEt9QK+ufTHUiVzrzRx4hrdIXZsc4CiqU0nJaVYuWbXS1rGJKujNb83S4OyULs\n",
              "6qpLjaQd+YdWkFYXkaQGGf7np31d5mvC+sbuaHsDhcTkJaIC+J+i9ykJbn2FS4aAQi0JAAAAKEGf\n",
              "k0UVPCP/ANzcea6phaI4uYjPmjTWvDOcC+KHH5tG5Aczjdq6AtoAAAAZAZ+ydEf/ACOsRYLgltlR\n",
              "LWABO2GZrJglQQAAABoBn7RqR/8AI78hNNbD1KABwGX4w3wmEPFmDQAAAD9Bm7dJqEFomUwU8L/+\n",
              "jLAAFmJ8yK9AAUG2mvF1xEMwKDBGjLaT3VuKfgjAsY/GlCwC/wxqnVu1Rury5RiaV3QAAAAgAZ/W\n",
              "akf/AOh3yFRq8i4JS+dOEt63AAlnuNlLK/buEDEAAAA9QZvbSeEKUmUwIX/+jLAAFv9y2FIdtTB+\n",
              "nQB0jpkQgUyAvS2Z9H0OjFHCtq3r07ele1D40a6uuzJpXkzRvQAAABxBn/lFNEwj/wDc3HuHveyG\n",
              "wpz/YGQvYNJs4AwIAAAADgGeGHRH/wAjrEWPuLmpAAAAGQGeGmpH/wAjvyE++Id5gUvkAC6AoaoA\n",
              "qwMAAAA9QZocSahBaJlMCF///oywABZNaSAAndJMfOXDZf8KlVcVVDglNTG3wyB/ER44WesckNAL\n",
              "Ha5gP5n946+WtwAAAIRBmiBJ4QpSZTAhf/6MsAAs2+Pgg7QAKis6be1+8SLWPcESM12ahE6IydXf\n",
              "foqwxHrqvdMrsg4KqLLxtUcQJxHotZSvuVQOJqezP3o6Q0iSMUytgdP7KrUvEHqvg2eyNK9f1Z8v\n",
              "D/Xl3x0Q6DvkLMsrj4RI+61iapGsY2Sb/8FDIXtJibkAAAAfQZ5eRTRMI/8A3Nx7h73shsKc/2Ej\n",
              "trn39HuQVuAXcAAAAB8Bnn10R/8AI6xP2imAZkG4gOJkBaV1eGd+gH25hLDwAAAAEgGef2pH/wAj\n",
              "vybpdPlMaBtWwQAAAE5BmmRJqEFomUwIV//+OEAAqO7fIxElfAKsKevGbKfy4lRP6dnkdA04T2vZ\n",
              "kkuzHBk+THa+cQdMHziHA+PsR+q+cetc2z+vjuaCCzaaHTAAAAAgQZ6CRREsI/8A3Nx7msLke8wn\n",
              "fOxD4YEJAD7aKEGADUkAAAARAZ6hdEf/ACOsTppYGR/JWrYAAAAaAZ6jakf/ACO/Jv9Lr1FgA4ne\n",
              "+Cf/rZZnekEAAABCQZqlSahBbJlMCF///oywACulP1pxvQAFBtqL/rfB47sAhDtS3RM/ttRDPB5P\n",
              "ANhdNlDCGxrk3U4dwWbzgnm8LRNxAAAANkGax0nhClJlMFFSwv/+jLAAK3nm8AKAV7wARnsbThGy\n",
              "rrq5TFLcKH0jILP/FPMvt4z3lZiDgQAAABgBnuZqR/8AcUJ4j7Fi3o8UL5vC5JPQYEEAAABeQZrq\n",
              "SeEOiZTAhf/+jLAAVvGZDx6lCZsZBQA3lW0Q8Qc/HGNiyie0mg332LBQCJBhMYTweFugyEe/VMCl\n",
              "ccbxu7e1fgGsIvLc+PYs7kg0jYDG/QzBfSSLg2MJNqRLwAAAACZBnwhFFTwj/wCRKKlkNQxbMgP5\n",
              "SsGp9AAH4k4EUQMD5zTt/kgDpgAAABYBnylqR/8ALGQb2AklqABNhjURV9kLAAAAhkGbLkmoQWiZ\n",
              "TAhf//6MsABXGKiRE+APii3wAvjVJt+gfz5pAZCUczSpCuIONXX35tER+9QZcEYvGhwnzvjzQjWF\n",
              "xcFRuqAvdIht3hIc4az5AMDIUkvDW8TugdchkPuvlDN+qzpxVtoeoHkQ9MtHrrERGpCdl41a5swy\n",
              "fj9NAozl++RneGfAAAAAI0GfTEURLCP/ANzce5rC5HvMKKCu8hAAnWUn7pglghnBgCDgAAAAGwGf\n",
              "a3RH/wAsWatKbEALDhEeQ5MZwJZGnxMO6QAAABkBn21qR/8AKqE42AA/CbRIWFWMxTqEIIOBAAAA\n",
              "LkGbb0moQWyZTAhn//6eEACKpA4GxM+ACwUVX6w4h+DkDGNgELCnfiIWK+wID5kAAABcQZuTSeEK\n",
              "UmUwIZ/+nhAAU+Bv7gXI3BRwBW/Xe+VkKEo2LvVkXr/pHFxaSPHxvY9sreRVEGBLBpFejPSJTFQ3\n",
              "VeZGQDfm5okWm7ZjAHo8OBX5NQ2xYTK0tbjwVsAAAAAmQZ+xRTRMI/8A3Nx7h73shsKdoLB/ZWtN\n",
              "ACaZQ8dyUmxnf+oAqoAAAAAWAZ/QdEf/AFZ89COvAATt0DusR04FTQAAABEBn9JqR/8AVlPxiul4\n",
              "VqgknAAAADNBm9dJqEFomUwIZ//+nhAAiqQOBsJkABDqeT2171Kz7mr9WqgQ50grJpfLIgxtaxll\n",
              "D7gAAAAaQZ/1RREsI/8A3Nx7msLke8wocVcJHkzABVUAAAAOAZ4UdEf/ACOr+HDw+YAAAAAOAZ4W\n",
              "akf/ACO/BDB4fMEAAABJQZobSahBbJlMCGf//p4QAFPydGAKtkEus1n3AtyQlMPMuPqa9K6ksLgS\n",
              "ZHvMpHq2IaL8MTxlgMvu2nJeQwC4w4XkGDZBLGxLwQAAABlBnjlFFSwj/wDc3HuawuR7zChQ+70Y\n",
              "pAFfAAAADwGeWHRH/wArIxM1mTEShwAAAA4BnlpqR/8AKypNu8+C2gAAAF9Bml9JqEFsmUwIX//+\n",
              "jLAAVLN4YA5h55KIXX1MVLnPVsa0rwk9xrWj50sxNoAIt65v0xKU3ZAbm0QfAfdNlDnyE+sLtnNr\n",
              "IxI4nLx0tsDvRYZIeRrdFx1fb9GOTNB3QQAAABlBnn1FFSwj/wDc3HuawuR7zChrbYfloAZ9AAAA\n",
              "DAGenHRH/wAjrEAhvwAAAA8Bnp5qR/8AKdD5RwI+jbgAAABZQZqDSahBbJlMCF///oywAFL3byzS\n",
              "3MbFwAsFED+UQ6gqS96cy/Y8E2PQKxlKfP7ragt3TbwAxLslfRokaAcFiwLeL0FvucNI/0q9Q1Ts\n",
              "9DCWtKbn6Sswi4EAAAAtQZ6hRRUsI/8A3Nx7msLkfXmaZa+YH0ACHO1OW8PLaCZJwFGNJgFjx8Zk\n",
              "AGBAAAAADQGewHRH/wAjS8zxDfkAAAAaAZ7Cakf/ACnbx48wAJUV1M5vIXYJzrR0g4AAAABFQZrF\n",
              "SahBbJlMFEwv//6MsABSc3hgCtUT5nO+X04rgkUP3W4jDIeuAc9vKOEAOao8JxHnpiERt8empQnl\n",
              "UBF+yl2cjCRhAAAAIQGe5GpH/wDod8hUb6b3fBAYY2QRAB+/xO3nxTT5OLCggQAAACxBmulJ4QpS\n",
              "ZTAhf/6MsABSWYOMUKwBW2rfxKj79bFVAceFGxyEHn3Ba0YWcQAAABlBnwdFNEwj/wDc3HuHveyG\n",
              "wp10yLaMgAOPAAAADgGfJnRH/wAo4xxO+MS8AAAADgGfKGpH/wAo+dohNmJeAAAAPkGbK0moQWiZ\n",
              "TBTwz/6eEACkf0fTpJCRNh7xRtdgUvG1N70FZdahfxqLgeYcNRtjxKqfW8YZcW906eeKpDQhAAAA\n",
              "HgGfSmpH/wDod8hUavIu/5PAAE7bkZtBXUSuYSFBxwAAAEhBm09J4QpSZTAhf/6MsACk1ylR3wAo\n",
              "BcbBrqP2g6oQ8ViVpCFNG18Tv3JDdmKeIR3HPLJdlPhypRuUcr/PVPL0V3j6fAFvgd0AAAAoQZ9t\n",
              "RTRMI/8A3Nx7h73sh/XpO0fKMk1PbgBaJgS4x15QqRff8YAMqQAAABMBn4x0R/8AVDX3b/K7UiQ1\n",
              "ZIeFAAAAEwGfjmpH/wBT8pQ6hn2HukKNhC0AAABDQZuSSahBaJlMCF///oywAKTlhCAWs9MEUrn+\n",
              "gV5gOFzFajeXJyoGFXXadVvRAPjm8cbNPn/Z/epNIcD1qDskhLkC7gAAABhBn7BFESwj/wCTFQgZ\n",
              "l5DosEDix4IoArYAAAAQAZ/Rakf/AFQzSjXfCJIkfQAAAElBm9ZJqEFsmUwIX//+jLAAUmDIqKlH\n",
              "wAQKe21u6CMk8zpnNmJtlvSRrab7N9kkr1mDhH/zV67ubo261Qyi5fG8BeigsEk4YM+AAAAAI0Gf\n",
              "9EUVLCP/ANzce5rC5H1LmqGvfyZQAP2e77t5DVVjMAEHAAAAGgGeE3RH/wAqP7zAA+qwCnwGsI8t\n",
              "lpZlo6QdAAAADwGeFWpH/wAqClDW6J0S8AAAAC5BmhpJqEFsmUwIX//+jLAAVLH6MAFq8O0No3ub\n",
              "+CX2MXzQi3q8OaTvtXBY+BIxAAAAHEGeOEUVLCP/ANzce5rC5H1LmqGwbw/eiPuAF3EAAAAMAZ5X\n",
              "dEf/ACOsQCG/AAAADgGeWWpH/wArOdLYsIIPAAAANkGaXkmoQWyZTAhX//44QAFGuGxgBZNeii2v\n",
              "mewKMBdp3FYgYTrVU9KmmYfUqSf0vvCiLQBWwAAAACJBnnxFFSwj/wDc3HuawuR9S5qhsF3HAAJX\n",
              "CdTYNDyaAAK/AAAAFgGem3RH/wBWfQ2MhAAgd1jxupSueR8AAAAQAZ6dakf/AFZT8YrpenPI+AAA\n",
              "ADJBmoJJqEFsmUwIR//94QAE9kDkACdYAP+lXt098Y25ZWUlbpt3YMz1bx3nwDmoxNeF5AAAAB1B\n",
              "nqBFFSwj/wDc3HuawuR9S5qhsFny3oj9cYAe0QAAAAwBnt90R/8AI6xAIb8AAAAWAZ7Bakf/ACoM\n",
              "5KACdugyp5OQ06dzQwAAABRBmsNJqEFsmUwI//yEAAlpIYrFJAAAB75tb292AAAAbG12aGQAAAAA\n",
              "AAAAAAAAAAAAAAPoAAAH0AABAAABAAAAAAAAAAAAAAAAAQAAAAAAAAAAAAAAAAAAAAEAAAAAAAAA\n",
              "AAAAAAAAAEAAAAAAAAAAAAAAAAAAAAAAAAAAAAAAAAAAAAAAAAACAAAG6HRyYWsAAABcdGtoZAAA\n",
              "AAMAAAAAAAAAAAAAAAEAAAAAAAAH0AAAAAAAAAAAAAAAAAAAAAAAAQAAAAAAAAAAAAAAAAAAAAEA\n",
              "AAAAAAAAAAAAAAAAAEAAAAABsAAAASAAAAAAACRlZHRzAAAAHGVsc3QAAAAAAAAAAQAAB9AAAAIA\n",
              "AAEAAAAABmBtZGlhAAAAIG1kaGQAAAAAAAAAAAAAAAAAADIAAABkAFXEAAAAAAAtaGRscgAAAAAA\n",
              "AAAAdmlkZQAAAAAAAAAAAAAAAFZpZGVvSGFuZGxlcgAAAAYLbWluZgAAABR2bWhkAAAAAQAAAAAA\n",
              "AAAAAAAAJGRpbmYAAAAcZHJlZgAAAAAAAAABAAAADHVybCAAAAABAAAFy3N0YmwAAACzc3RzZAAA\n",
              "AAAAAAABAAAAo2F2YzEAAAAAAAAAAQAAAAAAAAAAAAAAAAAAAAABsAEgAEgAAABIAAAAAAAAAAEA\n",
              "AAAAAAAAAAAAAAAAAAAAAAAAAAAAAAAAAAAAAAAAAAAY//8AAAAxYXZjQwFkAB7/4QAYZ2QAHqzZ\n",
              "QbCWhAAAAwAEAAADAZA8WLZYAQAGaOvjyyLAAAAAHHV1aWRraEDyXyRPxbo5pRvPAyPzAAAAAAAA\n",
              "ABhzdHRzAAAAAAAAAAEAAABkAAABAAAAABRzdHNzAAAAAAAAAAEAAAABAAADEGN0dHMAAAAAAAAA\n",
              "YAAAAAEAAAIAAAAAAQAABAAAAAACAAABAAAAAAEAAAMAAAAAAQAAAQAAAAABAAADAAAAAAEAAAEA\n",
              "AAAAAQAAAwAAAAABAAABAAAAAAEAAAMAAAAAAQAAAQAAAAABAAAEAAAAAAIAAAEAAAAAAQAAAgAA\n",
              "AAABAAADAAAAAAEAAAEAAAAAAQAABQAAAAABAAACAAAAAAEAAAAAAAAAAQAAAQAAAAABAAADAAAA\n",
              "AAEAAAEAAAAAAQAABQAAAAABAAACAAAAAAEAAAAAAAAAAQAAAQAAAAABAAACAAAAAAEAAAUAAAAA\n",
              "AQAAAgAAAAABAAAAAAAAAAEAAAEAAAAAAQAABQAAAAABAAACAAAAAAEAAAAAAAAAAQAAAQAAAAAB\n",
              "AAACAAAAAAEAAAMAAAAAAQAAAQAAAAABAAAEAAAAAAIAAAEAAAAAAQAABQAAAAABAAACAAAAAAEA\n",
              "AAAAAAAAAQAAAQAAAAABAAACAAAAAAEAAAUAAAAAAQAAAgAAAAABAAAAAAAAAAEAAAEAAAAAAQAA\n",
              "BQAAAAABAAACAAAAAAEAAAAAAAAAAQAAAQAAAAABAAAFAAAAAAEAAAIAAAAAAQAAAAAAAAABAAAB\n",
              "AAAAAAEAAAUAAAAAAQAAAgAAAAABAAAAAAAAAAEAAAEAAAAAAQAABQAAAAABAAACAAAAAAEAAAAA\n",
              "AAAAAQAAAQAAAAABAAADAAAAAAEAAAEAAAAAAQAABQAAAAABAAACAAAAAAEAAAAAAAAAAQAAAQAA\n",
              "AAABAAADAAAAAAEAAAEAAAAAAQAABQAAAAABAAACAAAAAAEAAAAAAAAAAQAAAQAAAAABAAAEAAAA\n",
              "AAIAAAEAAAAAAQAABQAAAAABAAACAAAAAAEAAAAAAAAAAQAAAQAAAAABAAAFAAAAAAEAAAIAAAAA\n",
              "AQAAAAAAAAABAAABAAAAAAEAAAUAAAAAAQAAAgAAAAABAAAAAAAAAAEAAAEAAAAAAQAABQAAAAAB\n",
              "AAACAAAAAAEAAAAAAAAAAQAAAQAAAAABAAACAAAAABxzdHNjAAAAAAAAAAEAAAABAAAAZAAAAAEA\n",
              "AAGkc3RzegAAAAAAAAAAAAAAZAAANIQAAAMzAAAAWAAAADkAAADYAAAANgAAAKkAAAApAAAAgwAA\n",
              "ACAAAAC5AAAAIwAAAJsAAAAoAAAAHwAAAIQAAAB+AAAAGwAAALkAAAAsAAAAHQAAAB4AAABDAAAA\n",
              "JAAAAEEAAAAgAAAAEgAAAB0AAABBAAAAiAAAACMAAAAjAAAAFgAAAFIAAAAkAAAAFQAAAB4AAABG\n",
              "AAAAOgAAABwAAABiAAAAKgAAABoAAACKAAAAJwAAAB8AAAAdAAAAMgAAAGAAAAAqAAAAGgAAABUA\n",
              "AAA3AAAAHgAAABIAAAASAAAATQAAAB0AAAATAAAAEgAAAGMAAAAdAAAAEAAAABMAAABdAAAAMQAA\n",
              "ABEAAAAeAAAASQAAACUAAAAwAAAAHQAAABIAAAASAAAAQgAAACIAAABMAAAALAAAABcAAAAXAAAA\n",
              "RwAAABwAAAAUAAAATQAAACcAAAAeAAAAEwAAADIAAAAgAAAAEAAAABIAAAA6AAAAJgAAABoAAAAU\n",
              "AAAANgAAACEAAAAQAAAAGgAAABgAAAAUc3RjbwAAAAAAAAABAAAALAAAAGJ1ZHRhAAAAWm1ldGEA\n",
              "AAAAAAAAIWhkbHIAAAAAAAAAAG1kaXJhcHBsAAAAAAAAAAAAAAAALWlsc3QAAAAlqXRvbwAAAB1k\n",
              "YXRhAAAAAQAAAABMYXZmNTcuODMuMTAw\n",
              "\">\n",
              "  Your browser does not support the video tag.\n",
              "</video>"
            ]
          },
          "metadata": {
            "tags": []
          }
        }
      ]
    }
  ]
}